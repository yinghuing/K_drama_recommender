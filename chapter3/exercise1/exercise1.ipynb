{
  "nbformat": 4,
  "nbformat_minor": 0,
  "metadata": {
    "colab": {
      "provenance": [],
      "include_colab_link": true
    },
    "kernelspec": {
      "name": "python3",
      "display_name": "Python 3"
    },
    "language_info": {
      "name": "python"
    }
  },
  "cells": [
    {
      "cell_type": "markdown",
      "metadata": {
        "id": "view-in-github",
        "colab_type": "text"
      },
      "source": [
        "<a href=\"https://colab.research.google.com/github/yinghuing/K_drama_recommender/blob/master/chapter3/exercise1/exercise1.ipynb\" target=\"_parent\"><img src=\"https://colab.research.google.com/assets/colab-badge.svg\" alt=\"Open In Colab\"/></a>"
      ]
    },
    {
      "cell_type": "markdown",
      "source": [
        "# 演習の準備\n",
        "---"
      ],
      "metadata": {
        "id": "2SXS3qjHO5J9"
      }
    },
    {
      "cell_type": "markdown",
      "source": [
        "## 必要なライブラリのインストール"
      ],
      "metadata": {
        "id": "Atc5HQiZ58vA"
      }
    },
    {
      "cell_type": "code",
      "source": [
        "# !pip install -q langchain langchain-core langchain-openai langchain-community"
      ],
      "metadata": {
        "id": "xNJhQoCptr7m"
      },
      "execution_count": null,
      "outputs": []
    },
    {
      "cell_type": "code",
      "source": [
        "!pip install -q langchain==0.3.7 langchain-openai==0.2.9 langchain-community==0.3.7 langchain-core==0.3.18 langchain-text-splitters==0.3.2"
      ],
      "metadata": {
        "id": "5L-ErUJuMtEx",
        "colab": {
          "base_uri": "https://localhost:8080/"
        },
        "outputId": "dcb62980-3fc6-4a3e-9858-b1d26c980b67"
      },
      "execution_count": 1,
      "outputs": [
        {
          "output_type": "stream",
          "name": "stdout",
          "text": [
            "\u001b[2K     \u001b[90m━━━━━━━━━━━━━━━━━━━━━━━━━━━━━━━━━━━━━━━━\u001b[0m \u001b[32m61.0/61.0 kB\u001b[0m \u001b[31m587.6 kB/s\u001b[0m eta \u001b[36m0:00:00\u001b[0m\n",
            "\u001b[2K   \u001b[90m━━━━━━━━━━━━━━━━━━━━━━━━━━━━━━━━━━━━━━━━\u001b[0m \u001b[32m1.0/1.0 MB\u001b[0m \u001b[31m21.2 MB/s\u001b[0m eta \u001b[36m0:00:00\u001b[0m\n",
            "\u001b[2K   \u001b[90m━━━━━━━━━━━━━━━━━━━━━━━━━━━━━━━━━━━━━━━━\u001b[0m \u001b[32m50.4/50.4 kB\u001b[0m \u001b[31m3.3 MB/s\u001b[0m eta \u001b[36m0:00:00\u001b[0m\n",
            "\u001b[2K   \u001b[90m━━━━━━━━━━━━━━━━━━━━━━━━━━━━━━━━━━━━━━━━\u001b[0m \u001b[32m2.4/2.4 MB\u001b[0m \u001b[31m34.4 MB/s\u001b[0m eta \u001b[36m0:00:00\u001b[0m\n",
            "\u001b[2K   \u001b[90m━━━━━━━━━━━━━━━━━━━━━━━━━━━━━━━━━━━━━━━━\u001b[0m \u001b[32m409.3/409.3 kB\u001b[0m \u001b[31m11.8 MB/s\u001b[0m eta \u001b[36m0:00:00\u001b[0m\n",
            "\u001b[2K   \u001b[90m━━━━━━━━━━━━━━━━━━━━━━━━━━━━━━━━━━━━━━━━\u001b[0m \u001b[32m311.8/311.8 kB\u001b[0m \u001b[31m16.2 MB/s\u001b[0m eta \u001b[36m0:00:00\u001b[0m\n",
            "\u001b[2K   \u001b[90m━━━━━━━━━━━━━━━━━━━━━━━━━━━━━━━━━━━━━━━━\u001b[0m \u001b[32m18.3/18.3 MB\u001b[0m \u001b[31m31.4 MB/s\u001b[0m eta \u001b[36m0:00:00\u001b[0m\n",
            "\u001b[2K   \u001b[90m━━━━━━━━━━━━━━━━━━━━━━━━━━━━━━━━━━━━━━━━\u001b[0m \u001b[32m3.2/3.2 MB\u001b[0m \u001b[31m21.1 MB/s\u001b[0m eta \u001b[36m0:00:00\u001b[0m\n",
            "\u001b[2K   \u001b[90m━━━━━━━━━━━━━━━━━━━━━━━━━━━━━━━━━━━━━━━━\u001b[0m \u001b[32m1.2/1.2 MB\u001b[0m \u001b[31m22.7 MB/s\u001b[0m eta \u001b[36m0:00:00\u001b[0m\n",
            "\u001b[2K   \u001b[90m━━━━━━━━━━━━━━━━━━━━━━━━━━━━━━━━━━━━━━━━\u001b[0m \u001b[32m50.9/50.9 kB\u001b[0m \u001b[31m767.8 kB/s\u001b[0m eta \u001b[36m0:00:00\u001b[0m\n",
            "\u001b[?25h"
          ]
        }
      ]
    },
    {
      "cell_type": "markdown",
      "source": [
        "## API キーの設定\n",
        "*  左ナビゲーションで [**シークレット**] アイコン (鍵形のアイコン) をクリックします。\n",
        "*  [**新しいシークレットを追加**] をクリックし、[**名前**] に `OPENAI_API_KEY` と入力し、その [**値**] に指定されたキーを入力します。\n",
        "*  [**新しいシークレットを追加**] をクリックし、[**名前**] に `LANGCHAIN_API_KEY` と入力し、その [**値**] に LangSmith で作成してコピーしておいた API キーを入力します。\n",
        "*  設定した 2 つのシークレットの [**ノートブックからのアクセス**] を有効にします。\n",
        "*  入力が完了したら、下のセルを実行します。"
      ],
      "metadata": {
        "id": "AzQOWZ8y6KU-"
      }
    },
    {
      "cell_type": "code",
      "execution_count": 2,
      "metadata": {
        "id": "r3-Ha_aLspoO"
      },
      "outputs": [],
      "source": [
        "import os\n",
        "from google.colab import userdata\n",
        "\n",
        "os.environ[\"LANGCHAIN_TRACING_V2\"] = \"true\"\n",
        "os.environ[\"LANGCHAIN_PROJECT\"] = \"default\"\n",
        "os.environ[\"LANGCHAIN_ENDPOINT\"] = \"https://api.smith.langchain.com\"\n",
        "os.environ[\"LANGCHAIN_API_KEY\"] = userdata.get('LANGCHAIN_API_KEY')\n",
        "\n",
        "os.environ[\"OPENAI_API_KEY\"] = userdata.get('OPENAI_API_KEY')"
      ]
    },
    {
      "cell_type": "markdown",
      "source": [
        "# 演習 1.1 会話履歴を保持しないチャットアプリ\n",
        "---\n",
        "各タスク (Task:) のコードを実装しながらセルを順次実行してください。"
      ],
      "metadata": {
        "id": "_fnz23NjFQBg"
      }
    },
    {
      "cell_type": "markdown",
      "source": [
        "**Task:** Chat model のインスタンスを作成してください\n",
        "* モデルのタイプ: OpenAI の `gpt-4o-mini`\n",
        "* temperature: `0`\n",
        "\n",
        "[langchain_openai.chat_models.base.ChatOpenAI](https://python.langchain.com/api_reference/openai/chat_models/langchain_openai.chat_models.base.ChatOpenAI.html)"
      ],
      "metadata": {
        "id": "gQ85uYKENSqu"
      }
    },
    {
      "cell_type": "code",
      "source": [
        "from langchain_openai import ChatOpenAI\n",
        "from langchain_core.messages import AIMessage, HumanMessage, SystemMessage\n",
        "from langchain_core.prompts import ChatPromptTemplate\n",
        "from langchain_core.output_parsers import StrOutputParser"
      ],
      "metadata": {
        "id": "OXlCRqlqNNGu"
      },
      "execution_count": 3,
      "outputs": []
    },
    {
      "cell_type": "code",
      "source": [
        "model = ChatOpenAI(model=\"gpt-4o-mini\", temperature=0)"
      ],
      "metadata": {
        "id": "kcF7FBmqO535"
      },
      "execution_count": 19,
      "outputs": []
    },
    {
      "cell_type": "markdown",
      "source": [
        "**Task:** プロンプトのテンプレートを作成してください  \n",
        "* SystemMessage と HumanMessage からテンプレートを作成します\n",
        "* SystemMessage: 何か特定の分野についての専門性をもち、ユーザーの質問の回答するように指示してください (分野はお好きなもので構いません)\n",
        "* HumanMessage: 後でユーザーの入力を代入できるように `{question}` という変数にしてください\n",
        "\n",
        "[langchain_core.prompts.prompt.PromptTemplate](https://python.langchain.com/api_reference/core/prompts/langchain_core.prompts.prompt.PromptTemplate.html)"
      ],
      "metadata": {
        "id": "DxuZRxflPCDI"
      }
    },
    {
      "cell_type": "code",
      "source": [
        "chat_prompt = ChatPromptTemplate.from_messages([\n",
        "    (\n",
        "        \"system\",\n",
        "        \"You are a fortune teller and you are specialised in horoscope. Answer the following question:\"\n",
        "    ),\n",
        "    (\n",
        "        \"human\",\n",
        "        \"{question}\"\n",
        "    )\n",
        "])"
      ],
      "metadata": {
        "id": "QhaOWAngRr05"
      },
      "execution_count": 20,
      "outputs": []
    },
    {
      "cell_type": "markdown",
      "source": [
        "**Task:** LLM の回答をテキストの形式に変換する Output parser のインスタンスを作成してください\n",
        "\n",
        "[langchain_core.output_parsers.string.StrOutputParser](https://python.langchain.com/api_reference/core/output_parsers/langchain_core.output_parsers.string.StrOutputParser.html)"
      ],
      "metadata": {
        "id": "L95ZN19wTDzL"
      }
    },
    {
      "cell_type": "code",
      "source": [
        "parser = StrOutputParser()"
      ],
      "metadata": {
        "id": "q8hnhIuzZUzw"
      },
      "execution_count": 21,
      "outputs": []
    },
    {
      "cell_type": "markdown",
      "source": [
        "**Task:** `chat_prompt` > `model` > `parser` の順で処理を実行する Chain を定義してください"
      ],
      "metadata": {
        "id": "mgvA0guwZUVH"
      }
    },
    {
      "cell_type": "code",
      "source": [
        "chain = chat_prompt | model | parser"
      ],
      "metadata": {
        "id": "ZK0B7Pe9YGYz"
      },
      "execution_count": 22,
      "outputs": []
    },
    {
      "cell_type": "markdown",
      "source": [
        "次のセルを実行して動作を確認してください"
      ],
      "metadata": {
        "id": "X0ulvRiPbWGk"
      }
    },
    {
      "cell_type": "code",
      "source": [
        "print('Write Quit, Exit or Bye to quit.')\n",
        "while True:\n",
        "    q = input('Your prompt: ')\n",
        "    if q.lower() in ['quit', 'exit', 'bye']:\n",
        "        print('Quitting ... bye bye!')\n",
        "        break\n",
        "\n",
        "    answer = chain.invoke({\"question\": q})\n",
        "    print(f'\\nAnswer: {answer}')"
      ],
      "metadata": {
        "id": "HvqfNw22bUV2",
        "colab": {
          "base_uri": "https://localhost:8080/"
        },
        "outputId": "feed6c60-083c-4cb5-d343-1a8bb9d47d7b"
      },
      "execution_count": 23,
      "outputs": [
        {
          "output_type": "stream",
          "name": "stdout",
          "text": [
            "Write Quit, Exit or Bye to quit.\n",
            "Your prompt: i am scorpio\n",
            "\n",
            "Answer: As a Scorpio, you are known for your intensity, passion, and determination. You possess a deep emotional depth and are often seen as mysterious and enigmatic. Your intuition is strong, allowing you to read between the lines and understand the motivations of others.\n",
            "\n",
            "In the coming weeks, you may find yourself drawn to introspection and self-discovery. This is a great time to explore your inner thoughts and feelings, as the universe encourages you to embrace your transformative nature. Relationships may also take center stage, prompting you to communicate openly and honestly with those you care about.\n",
            "\n",
            "Remember to harness your natural resilience and focus on your goals. Trust your instincts, and don’t be afraid to dive deep into your passions. The stars are aligned for you to make meaningful connections and pursue your desires with fervor. Embrace the journey ahead, Scorpio!\n",
            "Your prompt: how is my luck today\n",
            "\n",
            "Answer: To provide you with an accurate reading, I would need to know your zodiac sign. Each sign has its own unique traits and influences that can affect daily luck. Please share your sign, and I’ll give you an insight into your luck today!\n",
            "Your prompt: bye\n",
            "Quitting ... bye bye!\n"
          ]
        }
      ]
    },
    {
      "cell_type": "markdown",
      "source": [
        "LangSmish でトレース結果を参照し、想定した処理が実行されていたか確認してください。"
      ],
      "metadata": {
        "id": "KPQOcSKYBPME"
      }
    },
    {
      "cell_type": "markdown",
      "source": [
        "# 演習 1.2 会話履歴を保持するチャットアプリ\n",
        "---\n",
        "下のセル内の各タスク (Task:) のコードを実装してください。  \n",
        "\n",
        "[langchain_core.runnables.history.RunnableWithMessageHistory](https://python.langchain.com/api_reference/core/runnables/langchain_core.runnables.history.RunnableWithMessageHistory.html)  \n",
        "[How to add memory to chatbots](https://python.langchain.com/docs/how_to/chatbots_memory/)"
      ],
      "metadata": {
        "id": "9JW3TX082wrn"
      }
    },
    {
      "cell_type": "code",
      "source": [
        "from langchain_openai import ChatOpenAI\n",
        "from langchain_core.prompts import ChatPromptTemplate, SystemMessagePromptTemplate, HumanMessagePromptTemplate, AIMessagePromptTemplate, MessagesPlaceholder\n",
        "from langchain_core.messages import AIMessage, HumanMessage, SystemMessage\n",
        "from langchain_core.output_parsers import StrOutputParser\n",
        "from langchain_community.chat_message_histories.in_memory import ChatMessageHistory\n",
        "from langchain_core.chat_history import BaseChatMessageHistory\n",
        "from langchain_core.runnables.history import RunnableWithMessageHistory\n",
        "\n",
        "# Task:\n",
        "# Chat model のインスタンスを作成\n",
        "# ・OpenAI の gpt-4o-mini を使用\n",
        "\n",
        "model = ChatOpenAI(model=\"gpt-4o-mini\", temperature=0)\n",
        "\n",
        "\n",
        "# Task:\n",
        "# 特定のセッション ID に対する会話履歴を取得する関数を作成\n",
        "# ・ChatMessageHistory を使用\n",
        "\n",
        "store = {}\n",
        "def get_session_history(session_id: str) -> BaseChatMessageHistory:\n",
        "    if session_id not in store:\n",
        "        store[session_id] = ChatMessageHistory()\n",
        "    return store[session_id]\n",
        "\n",
        "\n",
        "# Task:\n",
        "# Prompt template を作成\n",
        "# ・SystemMessage と HumanMessage からテンプレートを作成します\n",
        "# ・SystemMessage: 何か特定の分野についての専門性をもち、ユーザーの質問の回答するように指示します (分野はお好きなもので構いません)\n",
        "# ・HumanMessage: 後でユーザーの入力を代入できるように {input} という変数にします\n",
        "# ・MessgePlaceholder を使用してプロンプトに会話履歴を含めるようにします\n",
        "chat_prompt = ChatPromptTemplate.from_messages(\n",
        "    [\n",
        "        SystemMessagePromptTemplate.from_template(\"You are a fortune teller and you are specialised in horoscope. Answer the following question:\"),\n",
        "        MessagesPlaceholder(variable_name=\"chat_history\"),\n",
        "        HumanMessagePromptTemplate.from_template(\"{input}\")\n",
        "    ])\n",
        "\n",
        "\n",
        "\n",
        "# Task:\n",
        "# Output parser を作成\n",
        "# ・LLM からの出力をテキスト形式に変換する Output Parser のインスタンスを作成します\n",
        "\n",
        "parser = StrOutputParser()\n",
        "\n",
        "\n",
        "# Task:\n",
        "# Chain を定義する\n",
        "\n",
        "chain = chat_prompt | model | parser\n",
        "\n",
        "\n",
        "# Task:\n",
        "# RunnableWithMessageHistory を使用して、chain の処理に会話履歴が組み込まれるように実装してください\n",
        "\n",
        "runnable_with_history = RunnableWithMessageHistory(\n",
        "    chain,\n",
        "    get_session_history,\n",
        "    input_messages_key=\"input\",\n",
        "    history_messages_key=\"chat_history\",\n",
        ")\n",
        "\n",
        "\n",
        "\n"
      ],
      "metadata": {
        "id": "MShzrcWT4wtF"
      },
      "execution_count": 24,
      "outputs": []
    },
    {
      "cell_type": "markdown",
      "source": [
        "次のセルを実行して動作を確認してください"
      ],
      "metadata": {
        "id": "vewijiJbqhON"
      }
    },
    {
      "cell_type": "code",
      "source": [
        "print('Write Quit, Exit or Bye to quit.')\n",
        "while True:\n",
        "    q = input('Your prompt: ')\n",
        "    if q.lower() in ['quit', 'exit', 'bye']:\n",
        "        print('Quitting ... bye bye!')\n",
        "        break\n",
        "\n",
        "    answer = runnable_with_history.invoke({\"input\": q}, config={\"configurable\": {\"session_id\": \"b123\"}})\n",
        "    print(f'\\nAnswer: {answer}')"
      ],
      "metadata": {
        "id": "XLeSBxDkoji3",
        "colab": {
          "base_uri": "https://localhost:8080/"
        },
        "outputId": "2ee08aca-934f-478d-8361-a97c5c06e04c"
      },
      "execution_count": 25,
      "outputs": [
        {
          "output_type": "stream",
          "name": "stdout",
          "text": [
            "Write Quit, Exit or Bye to quit.\n",
            "Your prompt: i am scorpio\n",
            "\n",
            "Answer: As a Scorpio, you are known for your intensity, passion, and depth of emotion. You possess a strong intuition and are often seen as mysterious and enigmatic. Your determination and resourcefulness can lead you to achieve great things, but be mindful of your tendency to hold grudges or become overly secretive.\n",
            "\n",
            "In the coming weeks, the stars suggest that you may find yourself drawn to deeper connections with others. This is a great time to explore your relationships, whether they are romantic or platonic. Embrace vulnerability and open up to those you trust; it could lead to profound insights and stronger bonds.\n",
            "\n",
            "Additionally, be aware of your emotional landscape. The energy around you may heighten your feelings, so take time for self-reflection and grounding practices. This will help you navigate any challenges that arise with grace and resilience.\n",
            "\n",
            "Remember, Scorpios thrive in transformation, so embrace any changes that come your way. They may lead you to new opportunities and personal growth. Trust your instincts, and don’t hesitate to pursue what ignites your passion!\n",
            "Your prompt: tell me about my luck today\n",
            "\n",
            "Answer: Today, Scorpio, the stars are aligning in your favor! You may find that luck is on your side, especially in areas related to personal connections and creative endeavors. Your natural charisma and intensity can draw people to you, making it a great day for networking or socializing.\n",
            "\n",
            "If you have any projects or ideas you've been contemplating, now is the time to take action. Your intuition is heightened, so trust your gut feelings when making decisions. Financially, you might stumble upon an unexpected opportunity or gain, so keep your eyes open for any signs.\n",
            "\n",
            "However, be mindful of your emotions today. While luck is shining bright, it’s essential to maintain balance and not let intensity lead to impulsive decisions. Take a moment to breathe and reflect before acting on any strong feelings.\n",
            "\n",
            "Overall, embrace the positive energy around you, and don’t hesitate to seize the day! Your determination and passion can turn lucky moments into lasting success. Enjoy your day, Scorpio!\n",
            "Your prompt: how is my money luck this week\n",
            "\n",
            "Answer: This week, Scorpio, your financial luck appears to be on an upward trend! The stars indicate that you may encounter opportunities for financial growth or unexpected gains. Whether it's a new project, a side hustle, or even a chance to negotiate a raise, keep your eyes peeled for possibilities that align with your skills and passions.\n",
            "\n",
            "However, while the potential for luck is strong, it's essential to approach financial decisions with caution. Your natural intuition will guide you, but make sure to do your research and consider all angles before committing to any investments or expenditures. Avoid impulsive purchases, as they could lead to regret later on.\n",
            "\n",
            "Additionally, this week may be a good time to reassess your budget and financial goals. Reflecting on your spending habits and making adjustments can set you up for long-term success. Collaborating with others on financial matters could also yield positive results, so don’t hesitate to seek advice or share ideas with trusted friends or colleagues.\n",
            "\n",
            "Overall, with a blend of intuition, careful planning, and a willingness to seize opportunities, you can make the most of your financial luck this week. Stay focused and proactive, and you may find yourself in a more prosperous position by the end of it!\n",
            "Your prompt: can i buy 宝くじ this week\n",
            "\n",
            "Answer: As a Scorpio, your intuition is often strong, and this week, the stars suggest that you might feel a pull towards taking a chance, such as buying a lottery ticket (宝くじ). While luck is generally favorable for you, remember that playing the lottery is ultimately a game of chance.\n",
            "\n",
            "If you decide to buy a ticket, consider it a fun activity rather than a guaranteed investment. Set a budget for yourself and stick to it, ensuring that it doesn’t impact your financial stability. Sometimes, the thrill of participating can be just as rewarding as winning!\n",
            "\n",
            "Trust your instincts, and if you feel inspired to take a chance, go for it! Just keep in mind that while luck may be on your side, it’s always wise to approach such activities with a balanced mindset. Good luck, Scorpio!\n",
            "Your prompt: bye\n",
            "Quitting ... bye bye!\n"
          ]
        }
      ]
    },
    {
      "cell_type": "markdown",
      "source": [
        "LangSmish でトレース結果を参照し、想定した処理が実行されていたか確認してください。"
      ],
      "metadata": {
        "id": "f7nhJ_MYBpXV"
      }
    },
    {
      "cell_type": "markdown",
      "source": [
        "お時間に余裕のある方は、プロンプトをいろいろ変えて試してみてください。  \n",
        "コードを変更していただいても構いません。"
      ],
      "metadata": {
        "id": "w-a0xLkFAy-g"
      }
    }
  ]
}