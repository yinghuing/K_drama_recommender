{
  "nbformat": 4,
  "nbformat_minor": 0,
  "metadata": {
    "colab": {
      "provenance": [],
      "include_colab_link": true
    },
    "kernelspec": {
      "name": "python3",
      "display_name": "Python 3"
    },
    "language_info": {
      "name": "python"
    }
  },
  "cells": [
    {
      "cell_type": "markdown",
      "metadata": {
        "id": "view-in-github",
        "colab_type": "text"
      },
      "source": [
        "<a href=\"https://colab.research.google.com/github/yinghuing/RAG_Agent_class/blob/master/chapter4/exercise2/exercise2.ipynb\" target=\"_parent\"><img src=\"https://colab.research.google.com/assets/colab-badge.svg\" alt=\"Open In Colab\"/></a>"
      ]
    },
    {
      "cell_type": "markdown",
      "source": [
        "# 演習の準備\n",
        "---"
      ],
      "metadata": {
        "id": "2SXS3qjHO5J9"
      }
    },
    {
      "cell_type": "markdown",
      "source": [
        "## 必要なライブラリのインストール"
      ],
      "metadata": {
        "id": "6NvuYwKzaYt5"
      }
    },
    {
      "cell_type": "code",
      "source": [
        "# !pip install -q langchain langchain-openai langchain-community langchain-core langchain-pinecone pypdf docx2txt wikipedia pinecone"
      ],
      "metadata": {
        "id": "xNJhQoCptr7m"
      },
      "execution_count": 1,
      "outputs": []
    },
    {
      "cell_type": "code",
      "source": [
        "!pip install -q langchain==0.3.7 langchain-openai==0.2.9 langchain-community==0.3.7 langchain-core==0.3.18 langchain-text-splitters==0.3.2 pypdf docx2txt wikipedia"
      ],
      "metadata": {
        "id": "5L-ErUJuMtEx"
      },
      "execution_count": 2,
      "outputs": []
    },
    {
      "cell_type": "code",
      "source": [
        "!pip freeze | grep langchain"
      ],
      "metadata": {
        "id": "15QyqnKk1CTN",
        "colab": {
          "base_uri": "https://localhost:8080/"
        },
        "outputId": "01523d1d-1b86-4512-a78d-c472ff9656ea"
      },
      "execution_count": 3,
      "outputs": [
        {
          "output_type": "stream",
          "name": "stdout",
          "text": [
            "langchain==0.3.7\n",
            "langchain-community==0.3.7\n",
            "langchain-core==0.3.18\n",
            "langchain-openai==0.2.9\n",
            "langchain-pinecone==0.2.0\n",
            "langchain-text-splitters==0.3.2\n"
          ]
        }
      ]
    },
    {
      "cell_type": "code",
      "source": [
        "!pip install -q langchain-pinecone==0.2.0 pinecone==5.3.1"
      ],
      "metadata": {
        "id": "6iXAnCxiuPh_"
      },
      "execution_count": 4,
      "outputs": []
    },
    {
      "cell_type": "code",
      "source": [
        "!pip freeze | grep pinecone"
      ],
      "metadata": {
        "id": "Rvq-yrm6tivB",
        "colab": {
          "base_uri": "https://localhost:8080/"
        },
        "outputId": "ca9996a9-8721-4e21-e2a5-42885bdf6c81"
      },
      "execution_count": 5,
      "outputs": [
        {
          "output_type": "stream",
          "name": "stdout",
          "text": [
            "langchain-pinecone==0.2.0\n",
            "pinecone==5.3.1\n",
            "pinecone-client==5.0.1\n",
            "pinecone-plugin-inference==1.1.0\n",
            "pinecone-plugin-interface==0.0.7\n"
          ]
        }
      ]
    },
    {
      "cell_type": "markdown",
      "source": [
        "## API キーの設定\n",
        "\n",
        "*  左ナビゲーションで [**シークレット**] アイコン (鍵形のアイコン) をクリックします。\n",
        "*  [**新しいシークレットを追加**] をクリックし、`LANGCHAIN_API_KEY`、`OPENAI_API_KEY`、`PINECONE_API_KEY` の 3 つを設定し、[**ノートブックからのアクセス**] を有効にします。\n",
        "  *  `OPENAI_API_KEY` の [**値**] には指定されたキーを入力します。\n",
        "  *  `LANGCHAIN_API_KEY` と `PINECONE_API_KEY` の [**値**] にはご自身で取得したキーを入力してください。\n",
        "*  入力が完了したら、下のセルを実行します。"
      ],
      "metadata": {
        "id": "7Xq-T4gzi4ga"
      }
    },
    {
      "cell_type": "code",
      "execution_count": 6,
      "metadata": {
        "id": "r3-Ha_aLspoO"
      },
      "outputs": [],
      "source": [
        "import os\n",
        "from google.colab import userdata\n",
        "\n",
        "os.environ[\"LANGCHAIN_TRACING_V2\"] = \"true\"\n",
        "os.environ[\"LANGCHAIN_PROJECT\"] = \"default\"\n",
        "os.environ[\"LANGCHAIN_ENDPOINT\"] = \"https://api.smith.langchain.com\"\n",
        "os.environ[\"LANGCHAIN_API_KEY\"] = userdata.get('LANGCHAIN_API_KEY')\n",
        "\n",
        "os.environ[\"OPENAI_API_KEY\"] = userdata.get('OPENAI_API_KEY')\n",
        "\n",
        "os.environ[\"PINECONE_API_KEY\"] = userdata.get('PINECONE_API_KEY')"
      ]
    },
    {
      "cell_type": "markdown",
      "source": [
        "## サンプルファイルのアップロード\n",
        "\n",
        "*  左ナビゲーションで [**ファイル**] アイコンをクリックします。\n",
        "*  開いた [ファイル] 欄の何もない部分で右クリックし、[**新しいフォルダ**] をクリックします。(sample_data と同じ階層にフォルダが作られるようにします)\n",
        "*  作成されたフォルダに **files** という名前を設定します。\n",
        "*  files フォルダにカーソルを合わせ、3 点リーダアイコンをクリックして、[**アップロード**] をクリックします。\n",
        "*  ローカルの files フォルダにあるすべてのファイルを選択してアップロードします。ご自身で用意したファイルをアップロードして使用しても構いません。\n",
        "*  「警告」のポップアップが表示されますが問題ありません。[**OK**] をクリックしてポップアップを閉じます。"
      ],
      "metadata": {
        "id": "FH5mLQyujAyr"
      }
    },
    {
      "cell_type": "code",
      "source": [
        "import warnings\n",
        "warnings.filterwarnings('ignore')"
      ],
      "metadata": {
        "id": "pclZg_IOh173"
      },
      "execution_count": 7,
      "outputs": []
    },
    {
      "cell_type": "markdown",
      "source": [
        "# Section 1: 関数の作成\n",
        "---\n",
        "RAG の各処理を実行する関数を作成します。  \n",
        "タスク (Task) になっている各セルのコードの不足している部分を補完して処理を実装してください。"
      ],
      "metadata": {
        "id": "8vl4ko_WSLfD"
      }
    },
    {
      "cell_type": "markdown",
      "source": [
        "## Task: ドキュメントをロードする関数の作成\n",
        "Python と LangChain フレームワークを使用して、PDF、Word (.docx)、およびテキスト (.txt) の各ドキュメントフォーマットに応じて動的にドキュメントをロードする関数を作成します。  \n",
        "ファイル拡張子に基づいて適切な Document loader を選択し、対応するライブラリを使用してドキュメントをロードするコードを書いてください。  \n",
        "\n",
        "* ファイル名から拡張子を抽出し、それに基づいて適切な Document loader を使用します\n",
        "* 他の拡張子の場合は、対応していない旨のメッセージを表示して、None を返します\n",
        "* 各ファイル形式に対応する Document loader を動的にインポートするコードを記述します。必要なインポートは、条件分岐の中で行います\n",
        "* ロードプロセス中の状況を示すために、処理中のファイル名を `print` で表示します\n",
        "* ドキュメントの内容をロードし、`data` 変数に格納して関数の出力として返します\n",
        "  \n",
        "参考：  \n",
        "[langchain_community.document_loaders.text.TextLoader](https://python.langchain.com/api_reference/community/document_loaders/langchain_community.document_loaders.text.TextLoader.html)  \n",
        "[langchain_community.document_loaders.pdf.PyPDFLoader](https://python.langchain.com/api_reference/community/document_loaders/langchain_community.document_loaders.pdf.PyPDFLoader.html)  \n",
        "[langchain_community.document_loaders.word_document.Docx2txtLoader](https://python.langchain.com/api_reference/community/document_loaders/langchain_community.document_loaders.word_document.Docx2txtLoader.html)  \n",
        "[langchain_community.document_loaders.wikipedia.WikipediaLoader](https://python.langchain.com/api_reference/community/document_loaders/langchain_community.document_loaders.wikipedia.WikipediaLoader.html)  \n",
        "https://python.langchain.com/docs/integrations/document_loaders/"
      ],
      "metadata": {
        "id": "sGrOFjVYe8gb"
      }
    },
    {
      "cell_type": "code",
      "source": [
        "def load_document(file):\n",
        "    import os\n",
        "    name, extension = os.path.splitext(file)\n",
        "\n",
        "    if extension == '.pdf':\n",
        "        from langchain_community.document_loaders.pdf import PyPDFLoader\n",
        "        print(f'Loading {file}')\n",
        "        loader = PyPDFLoader(file)\n",
        "    elif extension == '.docx':\n",
        "        from langchain_community.document_loaders.word_document import Docx2txtLoader\n",
        "        print(f'Loading {file}')\n",
        "        loader = Docx2txtLoader(file)\n",
        "    elif extension == '.txt':\n",
        "        from langchain_community.document_loaders.text import TextLoader\n",
        "        loader = TextLoader(file)\n",
        "    else:\n",
        "        print('Document format is not supported!')\n",
        "        return None\n",
        "\n",
        "    data = loader.load()\n",
        "    return data"
      ],
      "metadata": {
        "id": "jSvyGZMvNOMs"
      },
      "execution_count": 8,
      "outputs": []
    },
    {
      "cell_type": "code",
      "source": [
        "#wikipedia\n",
        "\n",
        "def load_from_wikipedia(query, lang=\"en\", load_max_docs=2):\n",
        "  from langchain.document_loaders import WikipediaLoader\n",
        "  loader = WikipediaLoader(query, lang, load_max_docs)\n",
        "  data = loader.load()\n",
        "  return data"
      ],
      "metadata": {
        "id": "nU8boaU31bMb"
      },
      "execution_count": 9,
      "outputs": []
    },
    {
      "cell_type": "markdown",
      "source": [
        "## Task: ドキュメントをチャンクに分割する関数の作成\n",
        "ロードしたドキュメント データを指定されたサイズにチャンク分割する関数を作成します。  \n",
        "\n",
        "* Text splitter には `RecursiveCharacterTextSplitter` クラスを使用します\n",
        "* `chunk_size` パラメータを使用して、各チャンクのサイズを指定します\n",
        "* `chunk_overlap` パラメータを使用して、隣接するチャンク間の重複サイズを設定します\n",
        "* これらのパラメータは関数の引数として指定でき、デフォルト値はそれぞれ `256` と `0` です\n",
        "* インスタンス化した `RecursiveCharacterTextSplitter` を使用して、入力されたドキュメント データを分割します\n",
        "* 関数は、分割されたチャンクを `chunks` というリストとして返します。\n",
        "  \n",
        "参考：  \n",
        "[langchain_text_splitters.character.RecursiveCharacterTextSplitter](https://python.langchain.com/api_reference/text_splitters/character/langchain_text_splitters.character.RecursiveCharacterTextSplitter.html)"
      ],
      "metadata": {
        "id": "nsdhIlhCe0YO"
      }
    },
    {
      "cell_type": "code",
      "source": [
        "def chunk_data(data, chunk_size=256, chunk_overlap=0):\n",
        "    from langchain.text_splitter import RecursiveCharacterTextSplitter\n",
        "    text_splitter = RecursiveCharacterTextSplitter(chunk_size=chunk_size, chunk_overlap=chunk_overlap)\n",
        "    chunks = text_splitter.split_documents(data)\n",
        "    return chunks"
      ],
      "metadata": {
        "id": "ewvGumJ0enHw"
      },
      "execution_count": 10,
      "outputs": []
    },
    {
      "cell_type": "markdown",
      "source": [
        "## Task: Embedding を行い Vector store インスタンスを出力する関数の作成\n",
        "ドキュメントのチャンクの embeddings を Pinecone の Index に挿入するか、既存の Index から embeddings を取得する関数を作成します。Index の存在チェック、インデックスの作成、embeddings の生成および挿入の処理を実装します。\n",
        "\n",
        "* この関数は引数として、Index 名 (`index_name`) とチャンクのリスト (`chunks`) を受け取ります\n",
        "* Vector store には Pinecone を使用します\n",
        "* Embedding model には OpenAI の `text-embedding-3-small` を使用します。embedding のベクトル次元数は `1536` です\n",
        "* Pinecone クライアントの `list_indexes()` メソッドを使用して、指定された `index_name` が既に存在するかどうかを確認します\n",
        "* Index が存在する場合は、既存の Index から Pinecone の Vector store インスタンスを作成します\n",
        "* Index が存在しない場合は、新しい Index を作成します。create_index メソッドを使用して、指定された次元数 (`1536`) とコサイン類似度 (`cosine`) を使用して Index を作成します\n",
        "* チャンクの embeddings を生成し、それらを新しい Index に挿入し、Pinecone の Vector store インスタンスを作成します\n",
        "* 最後に、Vector store インスタンス `vector_store` を関数の出力として返します\n",
        "\n",
        "参考：  \n",
        "[langchain_openai.embeddings.base.OpenAIEmbeddings](https://python.langchain.com/api_reference/openai/embeddings/langchain_openai.embeddings.base.OpenAIEmbeddings.html)  \n",
        "[langchain_pinecone.vectorstores.PineconeVectorStore](https://python.langchain.com/api_reference/pinecone/vectorstores/langchain_pinecone.vectorstores.PineconeVectorStore.html#pineconevectorstore)  \n",
        "https://python.langchain.com/docs/integrations/vectorstores/pinecone/  \n"
      ],
      "metadata": {
        "id": "srBEYDTBflJN"
      }
    },
    {
      "cell_type": "code",
      "source": [
        "def insert_or_fetch_embeddings(index_name, chunks):\n",
        "    # 必要なライブラリをインポート\n",
        "    import pinecone\n",
        "    from langchain_pinecone import PineconeVectorStore\n",
        "    from langchain_openai import OpenAIEmbeddings\n",
        "    from pinecone import PodSpec, ServerlessSpec\n",
        "\n",
        "    # Pinecone クライアントを初期化\n",
        "    pc = pinecone.Pinecone()\n",
        "\n",
        "    # Embedding model のインスタンスを作成\n",
        "    embedding_model = OpenAIEmbeddings(model=\"text-embedding-3-small\", dimensions=1536)\n",
        "\n",
        "    # embeddings の作成/ロード、Vector store の作成\n",
        "    if index_name in pc.list_indexes().names():\n",
        "        # Index がすでに存在する場合\n",
        "        print(f'Index {index_name} already exists. Loading embeddings ... ')\n",
        "        # Vector store インスタンスを作成\n",
        "        vector_store = PineconeVectorStore.from_existing_index(index_name, embedding_model)\n",
        "        print('Ok')\n",
        "    else:\n",
        "        # Index が存在しない場合\n",
        "        print(f'Creating index {index_name} and embeddings ... ')\n",
        "\n",
        "        # Index を作成\n",
        "        pc.create_index(\n",
        "            name=index_name,\n",
        "            dimension=1536,\n",
        "            metric='cosine',\n",
        "            spec=ServerlessSpec(\n",
        "                cloud='aws',\n",
        "                region='us-east-1'\n",
        "            )\n",
        "        )\n",
        "\n",
        "        # Vector store インスタンスを作成\n",
        "        vector_store = PineconeVectorStore.from_documents(chunks, embedding_model, index_name=index_name)\n",
        "        print('Ok')\n",
        "\n",
        "    return vector_store"
      ],
      "metadata": {
        "id": "szv_vHrofgNn"
      },
      "execution_count": 11,
      "outputs": []
    },
    {
      "cell_type": "markdown",
      "source": [
        "### Index を削除する関数"
      ],
      "metadata": {
        "id": "HcYOmeAbgh8Z"
      }
    },
    {
      "cell_type": "code",
      "source": [
        "def delete_pinecone_index(index_name='all'):\n",
        "    import pinecone\n",
        "    pc = pinecone.Pinecone()\n",
        "\n",
        "    if index_name == 'all':\n",
        "        indexes = pc.list_indexes().names()\n",
        "        print('Deleting all indexes ... ')\n",
        "        for index in indexes:\n",
        "            pc.delete_index(index)\n",
        "        print('Ok')\n",
        "    else:\n",
        "        print(f'Deleting index {index_name} ...', end='')\n",
        "        pc.delete_index(index_name)\n",
        "        print('Ok')"
      ],
      "metadata": {
        "id": "bbZzJ4fyggzR"
      },
      "execution_count": 12,
      "outputs": []
    },
    {
      "cell_type": "markdown",
      "source": [
        "## Task: RAG Chain を実行する関数\n",
        "---\n",
        "会話履歴を考慮してユーザーの質問に回答する Chain を実行する関数を作成します。  \n",
        "このタスクでは、Retriever の作成、会話履歴を考慮した質問の再構成、そして質問に対する適切な応答を生成する Chain を作成します。  \n",
        "\n",
        "* この関数は引数として、`vector_store` 、ユーザーの質問 `q` 、Chat history のインスタンス `chat_history` 、セッション ID `session_id` (デフォルト値は `unused`) 、検索結果ドキュメントの取得数 `k` (デフォルト値は `20`) を受け取ります\n",
        "* Chat model には OpenAI の `gpt-4o-mini` を使用します\n",
        "* Retriever にも会話履歴を考慮させます\n",
        "* LLM からの回答はテキストの形式に変換します\n",
        "* `RunnableWithMessageHistory` を使用して Chain の処理に会話履歴を組み込みます\n",
        "* Chain 処理の出力 `answer` を関数の出力として返します\n",
        "\n",
        "参考：  \n",
        "https://python.langchain.com/docs/concepts/#retrievers  \n"
      ],
      "metadata": {
        "id": "sD9Xzc8_1mQY"
      }
    },
    {
      "cell_type": "code",
      "source": [
        "import langchain_openai"
      ],
      "metadata": {
        "id": "bunrZocpKoQW"
      },
      "execution_count": 13,
      "outputs": []
    },
    {
      "cell_type": "code",
      "source": [
        "def get_answer_with_history(vector_store, q, chat_history, session_id='unused', k=20):\n",
        "    from langchain_core.prompts import ChatPromptTemplate, MessagesPlaceholder\n",
        "    from langchain_core.runnables import RunnablePassthrough, RunnableParallel\n",
        "    from langchain_openai import ChatOpenAI\n",
        "    from operator import itemgetter\n",
        "    from langchain_core.output_parsers import StrOutputParser\n",
        "    from langchain_community.chat_message_histories.in_memory import ChatMessageHistory\n",
        "    from langchain_core.chat_history import BaseChatMessageHistory\n",
        "    from langchain_core.runnables.history import RunnableWithMessageHistory\n",
        "    from langchain.chains import create_history_aware_retriever\n",
        "\n",
        "    # Chat model\n",
        "    model = langchain_openai.ChatOpenAI(model=\"gpt-4o-mini\", temperature=0)\n",
        "\n",
        "    # Retriever\n",
        "    # パラメータは search_type='similarity', search_kwargs={'k': k} としてください\n",
        "    retriever = vector_store.as_retriever(search_type=\"similarity\", search_kwargs={\"k\":k})\n",
        "\n",
        "    # 検索用にクエリを書き換えるためのプロンプト\n",
        "    contextualize_q_system_prompt = (\n",
        "        \"Given a chat history and the latest user question \"\n",
        "        \"which might reference context in the chat history, \"\n",
        "        \"formulate a standalone question which can be understood \"\n",
        "        \"without the chat history. Do NOT answer the question, \"\n",
        "        \"just reformulate it if needed and otherwise return it as is.\"\n",
        "    )\n",
        "\n",
        "    contextualize_q_prompt = ChatPromptTemplate.from_messages(\n",
        "        [\n",
        "            (\"system\", contextualize_q_system_prompt),\n",
        "            MessagesPlaceholder(\"chat_history\"),\n",
        "            (\"human\", \"{input}\"),\n",
        "        ]\n",
        "    )\n",
        "\n",
        "    # 会話履歴を考慮する Retriever を作成\n",
        "    history_aware_retriever = create_history_aware_retriever(model, retriever, contextualize_q_prompt)\n",
        "\n",
        "\n",
        "    # ユーザーのクエリに回答させるための Prompt template\n",
        "    system_message = \"\"\"以下の参考用のテキストの一部を参照して、質問に回答してください。もし参考用のテキストの中に回答に役立つ情報が含まれていなければ、分からない、と答えてください。\n",
        "\n",
        "    {context}\"\"\"\n",
        "    human_message = \"質問：{input}\"\n",
        "\n",
        "    chat_prompt = ChatPromptTemplate.from_messages([\n",
        "\n",
        "        (\n",
        "            \"system\", system_message\n",
        "        ),\n",
        "        MessagesPlaceholder(\"chat_history\"),\n",
        "        (\n",
        "            \"human\", human_message\n",
        "        )\n",
        "    ])\n",
        "\n",
        "    # ユーザーのクエリと history_aware_retriever が取得した Documents を出力する Runnable\n",
        "    add_context = RunnablePassthrough.assign(context=history_aware_retriever)\n",
        "\n",
        "    # Chain を定義\n",
        "    rag_chain = add_context | chat_prompt | model | StrOutputParser()\n",
        "\n",
        "    runnable_with_history = RunnableWithMessageHistory(\n",
        "        rag_chain,\n",
        "        lambda session_id: chat_history, # session_id を受け取って対応する chat message history インスタンス (BaseChatMessageHistory) を返す関数\n",
        "        input_messages_key=\"input\",\n",
        "        history_messages_key=\"chat_history\",\n",
        "\n",
        "\n",
        "    )\n",
        "\n",
        "    # Chain の実行\n",
        "    answer = runnable_with_history.invoke({\"input\":q}, config={\"configurable\":{\"session_id\": session_id}})\n",
        "    return answer"
      ],
      "metadata": {
        "id": "Pikqr8mMQa4p"
      },
      "execution_count": 14,
      "outputs": []
    },
    {
      "cell_type": "markdown",
      "source": [
        "# Section 2: 関数を使用した処理の実行\n",
        "---\n",
        "Section 1 で作成した関数を使用して RAG の実行処理を実装します。\n",
        "タスク (Task) になっている各セルのコードの不足している部分を補完して処理を実装してください。"
      ],
      "metadata": {
        "id": "8ti6JVLkQc9z"
      }
    },
    {
      "cell_type": "markdown",
      "source": [
        "## Task: ドキュメントのロードとチャンク化\n",
        "* ファイルからドキュメントのデータをロードし、それをチャンクに分割します\n",
        "* チャンクのサイズは `300` 、チャンク間の重複サイズは `0` とします"
      ],
      "metadata": {
        "id": "BiPtImWzfOiD"
      }
    },
    {
      "cell_type": "code",
      "source": [
        "# ドキュメント データをロード\n",
        "data = load_document(\"files/employment_regulations.pdf\")\n"
      ],
      "metadata": {
        "id": "6keUaWOlw2pE",
        "colab": {
          "base_uri": "https://localhost:8080/"
        },
        "outputId": "8b2d0532-6f99-4eff-e7c2-f39b01e785b3"
      },
      "execution_count": 15,
      "outputs": [
        {
          "output_type": "stream",
          "name": "stdout",
          "text": [
            "Loading files/employment_regulations.pdf\n"
          ]
        }
      ]
    },
    {
      "cell_type": "code",
      "source": [
        "# チャンクに分割\n",
        "chunks = chunk_data(data, chunk_size=300, chunk_overlap=0)\n",
        "\n",
        "# 確認のため、チャンク数を表示する\n",
        "print(len(chunks))"
      ],
      "metadata": {
        "colab": {
          "base_uri": "https://localhost:8080/"
        },
        "id": "N4ENbNaKJWCG",
        "outputId": "01605855-86ff-4be5-d628-0ef4ef654580"
      },
      "execution_count": 16,
      "outputs": [
        {
          "output_type": "stream",
          "name": "stdout",
          "text": [
            "50\n"
          ]
        }
      ]
    },
    {
      "cell_type": "code",
      "source": [
        "data = load_document(\"files/gingatetsudono_yoru.txt\")\n",
        "chunks += chunk_data(data, chunk_size=300, chunk_overlap=0)"
      ],
      "metadata": {
        "id": "X7PRLHpVimgJ"
      },
      "execution_count": 22,
      "outputs": []
    },
    {
      "cell_type": "code",
      "source": [
        "print(len(chunks))"
      ],
      "metadata": {
        "colab": {
          "base_uri": "https://localhost:8080/"
        },
        "id": "XsYhLv-UiwA_",
        "outputId": "743aa3ad-5fba-4342-92b6-81592fe3c9a6"
      },
      "execution_count": 23,
      "outputs": [
        {
          "output_type": "stream",
          "name": "stdout",
          "text": [
            "240\n"
          ]
        }
      ]
    },
    {
      "cell_type": "code",
      "source": [
        "chunks"
      ],
      "metadata": {
        "colab": {
          "base_uri": "https://localhost:8080/"
        },
        "id": "Xqigqf2kMYlB",
        "outputId": "b2567931-9c00-426c-ebcd-3e0727a116a0"
      },
      "execution_count": 20,
      "outputs": [
        {
          "output_type": "execute_result",
          "data": {
            "text/plain": [
              "[Document(metadata={'source': 'files/employment_regulations.pdf', 'page': 0, 'text': 'LangChain Training 社 就業規定 \\n第 1 章 総則 \\n第 1 条 （目的） \\n本規定は、LangChain Training 社（以下「当社」という）の従業員の就業に関する基\\n本的な事項を定め、従業員の適正かつ円滑な業務運営を図ることを目的とします。 \\n第 2 条 （適用範囲） \\n本規定は、当社に勤務する全ての従業員に適用されます。 \\n第 2 章 勤務時間・休憩時間 \\n第 3 条 （勤務時間） \\n1. 通常の勤務時間は、午前 9 時から午後 6 時までとします。 \\n2. 所定の勤務時間は 1 日 8 時間、週 40 時間とします。 \\n第 4 条 （休憩時間）'}, page_content='LangChain Training 社 就業規定 \\n第 1 章 総則 \\n第 1 条 （目的） \\n本規定は、LangChain Training 社（以下「当社」という）の従業員の就業に関する基\\n本的な事項を定め、従業員の適正かつ円滑な業務運営を図ることを目的とします。 \\n第 2 条 （適用範囲） \\n本規定は、当社に勤務する全ての従業員に適用されます。 \\n第 2 章 勤務時間・休憩時間 \\n第 3 条 （勤務時間） \\n1. 通常の勤務時間は、午前 9 時から午後 6 時までとします。 \\n2. 所定の勤務時間は 1 日 8 時間、週 40 時間とします。 \\n第 4 条 （休憩時間）'),\n",
              " Document(metadata={'source': 'files/employment_regulations.pdf', 'page': 0, 'text': '1. 休憩時間は、勤務時間の途中に 1 時間とします。 \\n2. 休憩時間は原則として、午後 12 時から午後 1 時までとします。 \\n第 5 条 （残業） \\n1. 業務上の必要により、勤務時間を超えて残業を命じる場合があります。 \\n2. 残業を行う場合は、事前に上司の許可を得なければなりません。 \\n第 3 章 休暇・休業 \\n第 6 条 （年次有給休暇） \\n1. 従業員は、入社後 6 か月を経過した時点で、10 日の有給休暇を取得する権利を\\n有します。 \\n2. 有給休暇は、年度ごとに付与され、繰り越しはできません。 \\n第 7 条 （特別休暇）'}, page_content='1. 休憩時間は、勤務時間の途中に 1 時間とします。 \\n2. 休憩時間は原則として、午後 12 時から午後 1 時までとします。 \\n第 5 条 （残業） \\n1. 業務上の必要により、勤務時間を超えて残業を命じる場合があります。 \\n2. 残業を行う場合は、事前に上司の許可を得なければなりません。 \\n第 3 章 休暇・休業 \\n第 6 条 （年次有給休暇） \\n1. 従業員は、入社後 6 か月を経過した時点で、10 日の有給休暇を取得する権利を\\n有します。 \\n2. 有給休暇は、年度ごとに付与され、繰り越しはできません。 \\n第 7 条 （特別休暇）'),\n",
              " Document(metadata={'source': 'files/employment_regulations.pdf', 'page': 0, 'text': '従業員は以下の理由により、特別休暇を申請することができます。'}, page_content='従業員は以下の理由により、特別休暇を申請することができます。'),\n",
              " Document(metadata={'source': 'files/employment_regulations.pdf', 'page': 1, 'text': '• 結婚 \\n• 出産 \\n• 喪失 \\n第 8 条 （病気休暇） \\n従業員は、病気や怪我のために就業が困難な場合、上司に申請することにより、病気\\n休暇を取得することができます。 \\n第 4 章 労働条件 \\n第 9 条 （給与） \\n1. 給与は、毎月末日締め、翌月 10 日に支払われます。 \\n2. 給与は、各従業員の職務内容、経験、能力に応じて決定されます。 \\n第 10 条 （昇給） \\n昇給は、年度末の業績評価に基づき、会社の判断で行われます。 \\n第 11 条 （賞与） \\n1. 賞与は、年度末に会社の業績に応じて支給されることがあります。 \\n2. 賞与の支給は必ずしも保障されるものではありません。'}, page_content='• 結婚 \\n• 出産 \\n• 喪失 \\n第 8 条 （病気休暇） \\n従業員は、病気や怪我のために就業が困難な場合、上司に申請することにより、病気\\n休暇を取得することができます。 \\n第 4 章 労働条件 \\n第 9 条 （給与） \\n1. 給与は、毎月末日締め、翌月 10 日に支払われます。 \\n2. 給与は、各従業員の職務内容、経験、能力に応じて決定されます。 \\n第 10 条 （昇給） \\n昇給は、年度末の業績評価に基づき、会社の判断で行われます。 \\n第 11 条 （賞与） \\n1. 賞与は、年度末に会社の業績に応じて支給されることがあります。 \\n2. 賞与の支給は必ずしも保障されるものではありません。'),\n",
              " Document(metadata={'source': 'files/employment_regulations.pdf', 'page': 1, 'text': '第 5 章 職場の秩序 \\n第 12 条 （遵守事項） \\n従業員は、以下の事項を遵守しなければなりません。 \\n• 法令を遵守し、社会的責任を果たすこと。 \\n• 職場の秩序と清潔を維持すること。 \\n• 他の従業員に対して礼儀正しく、協力的な態度をとること。 \\n第 13 条 （懲戒処分） \\n従業員が次の行為を行った場合、懲戒処分を受けることがあります。 \\n• 就業規則違反'}, page_content='第 5 章 職場の秩序 \\n第 12 条 （遵守事項） \\n従業員は、以下の事項を遵守しなければなりません。 \\n• 法令を遵守し、社会的責任を果たすこと。 \\n• 職場の秩序と清潔を維持すること。 \\n• 他の従業員に対して礼儀正しく、協力的な態度をとること。 \\n第 13 条 （懲戒処分） \\n従業員が次の行為を行った場合、懲戒処分を受けることがあります。 \\n• 就業規則違反'),\n",
              " Document(metadata={'source': 'files/employment_regulations.pdf', 'page': 2, 'text': '• 会社の名誉や信用を傷つける行為 \\n• 業務上の重大な過失 \\n第 6 章 雇用の終了 \\n第 14 条 （退職） \\n従業員が退職を希望する場合、少なくとも 30 日前に書面で通知しなければなりません。 \\n第 15 条 （解雇） \\n会社は、従業員が本規定または法令に違反した場合、解雇することがあります。 \\n第 7 章 雑則 \\n第 16 条 （規定の変更） \\n本規定は、会社の判断により変更されることがあります。 変更が行われた場合、従業\\n員に対して速やかに通知します。 \\n第 17 条 （附則） \\n本規定は、2024 年 8 月 1 日より施行します。'}, page_content='• 会社の名誉や信用を傷つける行為 \\n• 業務上の重大な過失 \\n第 6 章 雇用の終了 \\n第 14 条 （退職） \\n従業員が退職を希望する場合、少なくとも 30 日前に書面で通知しなければなりません。 \\n第 15 条 （解雇） \\n会社は、従業員が本規定または法令に違反した場合、解雇することがあります。 \\n第 7 章 雑則 \\n第 16 条 （規定の変更） \\n本規定は、会社の判断により変更されることがあります。 変更が行われた場合、従業\\n員に対して速やかに通知します。 \\n第 17 条 （附則） \\n本規定は、2024 年 8 月 1 日より施行します。'),\n",
              " Document(metadata={'source': 'files/employment_regulations.pdf', 'page': 2, 'text': 'LangChain Training 社 給与規程 \\n第 1 章 総則 \\n第 1 条 （目的） \\n本規程は、LangChain Training 社（以下「当社」という）の従業員に対する給与の支\\n給に関する基本的な事項を定め、公正かつ適正な給与の運営を図ることを目的としま\\nす。 \\n第 2 条 （適用範囲） \\n本規程は、当社に勤務する全ての従業員に適用されます。 \\n第 2 章 給与の構成 \\n第 3 条 （給与の構成）'}, page_content='LangChain Training 社 給与規程 \\n第 1 章 総則 \\n第 1 条 （目的） \\n本規程は、LangChain Training 社（以下「当社」という）の従業員に対する給与の支\\n給に関する基本的な事項を定め、公正かつ適正な給与の運営を図ることを目的としま\\nす。 \\n第 2 条 （適用範囲） \\n本規程は、当社に勤務する全ての従業員に適用されます。 \\n第 2 章 給与の構成 \\n第 3 条 （給与の構成）'),\n",
              " Document(metadata={'source': 'files/employment_regulations.pdf', 'page': 3, 'text': '給与は、以下の項目で構成されます。 \\n• 基本給 \\n• 資格手当 \\n• 通勤手当 \\n• 残業手当 \\n• 賞与 \\n第 4 条 （基本給） \\n基本給は、従業員の職位、職務内容、経験、能力、 その他の要素に基づき、個別に定\\nめられます。 \\n第 5 条 （資格手当） \\n当社が指定する資格を保有している従業員には、資格手当が支給されます。資格手当\\nの額は、資格の種類や等級に応じて決定されます。 \\n第 6 条 （通勤手当） \\n従業員の自宅から勤務場所までの通勤費用を補助するために、通勤手当が支給されま\\nす。支給額は、実際の交通費に基づき、月額の上限を定めます。 \\n第 7 条 （残業手当）'}, page_content='給与は、以下の項目で構成されます。 \\n• 基本給 \\n• 資格手当 \\n• 通勤手当 \\n• 残業手当 \\n• 賞与 \\n第 4 条 （基本給） \\n基本給は、従業員の職位、職務内容、経験、能力、 その他の要素に基づき、個別に定\\nめられます。 \\n第 5 条 （資格手当） \\n当社が指定する資格を保有している従業員には、資格手当が支給されます。資格手当\\nの額は、資格の種類や等級に応じて決定されます。 \\n第 6 条 （通勤手当） \\n従業員の自宅から勤務場所までの通勤費用を補助するために、通勤手当が支給されま\\nす。支給額は、実際の交通費に基づき、月額の上限を定めます。 \\n第 7 条 （残業手当）'),\n",
              " Document(metadata={'source': 'files/employment_regulations.pdf', 'page': 3, 'text': '従業員が所定の勤務時間を超えて労働した場合、残業手当が支給されます。残業手当\\nは、法定労働時間を超える部分については割増賃金として計算されます。 \\n第 3 章 賞与 \\n第 8 条 （賞与の支給） \\n1. 賞与は、当社の業績および従業員の業務評価に基づき、年に 1 回または 2 回支\\n給されることがあります。 \\n2. 賞与の支給時期および金額は、会社の判断によって決定されます。 \\n第 4 章 支給方法 \\n第 9 条 （給与の支払日）'}, page_content='従業員が所定の勤務時間を超えて労働した場合、残業手当が支給されます。残業手当\\nは、法定労働時間を超える部分については割増賃金として計算されます。 \\n第 3 章 賞与 \\n第 8 条 （賞与の支給） \\n1. 賞与は、当社の業績および従業員の業務評価に基づき、年に 1 回または 2 回支\\n給されることがあります。 \\n2. 賞与の支給時期および金額は、会社の判断によって決定されます。 \\n第 4 章 支給方法 \\n第 9 条 （給与の支払日）'),\n",
              " Document(metadata={'source': 'files/employment_regulations.pdf', 'page': 4, 'text': '給与は、毎月末日締め、翌月 10 日に銀行振込により支払います。支払日が金融機関の\\n休日に当たる場合は、直前の営業日に支払います。 \\n第 10 条 （控除） \\n給与からは、法定の控除項目および従業員が合意した控除項目が差し引かれます。こ\\nれには以下が含まれます。 \\n• 所得税 \\n• 社会保険料 \\n• 住民税 \\n• その他、従業員が合意した控除項目 \\n第 11 条 （給与明細） \\n給与支給時には、従業員に対して給与明細書を交付します。給与明細書には、基本給、\\n各種手当、控除額、最終支給額が明記されます。 \\n第 5 章 昇給および降給 \\n第 12 条 （昇給）'}, page_content='給与は、毎月末日締め、翌月 10 日に銀行振込により支払います。支払日が金融機関の\\n休日に当たる場合は、直前の営業日に支払います。 \\n第 10 条 （控除） \\n給与からは、法定の控除項目および従業員が合意した控除項目が差し引かれます。こ\\nれには以下が含まれます。 \\n• 所得税 \\n• 社会保険料 \\n• 住民税 \\n• その他、従業員が合意した控除項目 \\n第 11 条 （給与明細） \\n給与支給時には、従業員に対して給与明細書を交付します。給与明細書には、基本給、\\n各種手当、控除額、最終支給額が明記されます。 \\n第 5 章 昇給および降給 \\n第 12 条 （昇給）'),\n",
              " Document(metadata={'source': 'files/employment_regulations.pdf', 'page': 4, 'text': '昇給は、年度末の業績評価に基づき、従業員の貢献度、能力向上の度合いなどを考慮\\nして行われます。 \\n第 13 条 （降給） \\n業務成績が著しく低下した場合、または職務内容に著しい変更があった場合には、降\\n給が行われることがあります。降給の決定は、会社の判断で行います。 \\n第 6 章 雑則 \\n第 14 条 （給与の再計算） \\n支給された給与に誤りが発見された場合、会社は直ちに再計算を行い、過不足があれ\\nば速やかに修正します。過払いがあった場合、従業員は会社の指示に従い、返金する\\n義務を負います。 \\n第 15 条 （規程の変更）'}, page_content='昇給は、年度末の業績評価に基づき、従業員の貢献度、能力向上の度合いなどを考慮\\nして行われます。 \\n第 13 条 （降給） \\n業務成績が著しく低下した場合、または職務内容に著しい変更があった場合には、降\\n給が行われることがあります。降給の決定は、会社の判断で行います。 \\n第 6 章 雑則 \\n第 14 条 （給与の再計算） \\n支給された給与に誤りが発見された場合、会社は直ちに再計算を行い、過不足があれ\\nば速やかに修正します。過払いがあった場合、従業員は会社の指示に従い、返金する\\n義務を負います。 \\n第 15 条 （規程の変更）'),\n",
              " Document(metadata={'source': 'files/employment_regulations.pdf', 'page': 5, 'text': '本規程は、会社の判断により変更されることがあります。 変更が行われた場合、従業\\n員に対して速やかに通知します。 \\n第 16 条 （附則） \\n本規程は、2024 年 8 月 1 日より施行します。 \\n \\nLangChain Training 社 国内旅費規程 \\n第 1 章 総則 \\n第 1 条 （目的） \\n本規程は、LangChain Training 社（以下「当社」という）の従業員が国内出張を行う\\n際の旅費に関する事項を定め、適正な支出管理と従業員の円滑な業務遂行を図ること\\nを目的とします。 \\n第 2 条 （適用範囲） \\n本規程は、当社の従業員が国内出張を行う場合に適用されます。'}, page_content='本規程は、会社の判断により変更されることがあります。 変更が行われた場合、従業\\n員に対して速やかに通知します。 \\n第 16 条 （附則） \\n本規程は、2024 年 8 月 1 日より施行します。 \\n \\nLangChain Training 社 国内旅費規程 \\n第 1 章 総則 \\n第 1 条 （目的） \\n本規程は、LangChain Training 社（以下「当社」という）の従業員が国内出張を行う\\n際の旅費に関する事項を定め、適正な支出管理と従業員の円滑な業務遂行を図ること\\nを目的とします。 \\n第 2 条 （適用範囲） \\n本規程は、当社の従業員が国内出張を行う場合に適用されます。'),\n",
              " Document(metadata={'source': 'files/employment_regulations.pdf', 'page': 5, 'text': '第 2 章 旅費の種類 \\n第 3 条 （旅費の構成） \\n旅費は、以下の項目で構成されます。 \\n• 交通費 \\n• 宿泊費 \\n• 日当 \\n• その他必要経費 \\n第 4 条 （交通費） \\n1. 交通費は、出張に必要な公共交通機関の実費を支給します。 \\n2. 原則として、最も経済的かつ合理的な経路および方法を利用するものとします。 \\n3. 特急料金やグリーン車の利用は、業務上の必要がある場合に限り認められます。'}, page_content='第 2 章 旅費の種類 \\n第 3 条 （旅費の構成） \\n旅費は、以下の項目で構成されます。 \\n• 交通費 \\n• 宿泊費 \\n• 日当 \\n• その他必要経費 \\n第 4 条 （交通費） \\n1. 交通費は、出張に必要な公共交通機関の実費を支給します。 \\n2. 原則として、最も経済的かつ合理的な経路および方法を利用するものとします。 \\n3. 特急料金やグリーン車の利用は、業務上の必要がある場合に限り認められます。'),\n",
              " Document(metadata={'source': 'files/employment_regulations.pdf', 'page': 6, 'text': '第 5 条 （宿泊費） \\n1. 宿泊費は、出張先で宿泊が必要な場合に支給されます。 \\n2. 宿泊費の上限額は、地域および宿泊施設のランクに応じて以下の通り定めます。 \\no 都市部（東京、大阪、名古屋など） ：15,000 円/泊 \\no 地方都市：12,000 円/泊 \\no その他地域：10,000 円/泊 \\n3. 宿泊費の支給は、領収書の提出を必要とします。 \\n第 6 条 （日当） \\n1. 日当は、出張に伴う通常の食事代や雑費に対して支給されます。 \\n2. 日当の額は、出張の時間帯に応じて以下の通り定めます。 \\no 日帰り出張：2,000 円/日 \\no 宿泊を伴う出張：3,000 円/日'}, page_content='第 5 条 （宿泊費） \\n1. 宿泊費は、出張先で宿泊が必要な場合に支給されます。 \\n2. 宿泊費の上限額は、地域および宿泊施設のランクに応じて以下の通り定めます。 \\no 都市部（東京、大阪、名古屋など） ：15,000 円/泊 \\no 地方都市：12,000 円/泊 \\no その他地域：10,000 円/泊 \\n3. 宿泊費の支給は、領収書の提出を必要とします。 \\n第 6 条 （日当） \\n1. 日当は、出張に伴う通常の食事代や雑費に対して支給されます。 \\n2. 日当の額は、出張の時間帯に応じて以下の通り定めます。 \\no 日帰り出張：2,000 円/日 \\no 宿泊を伴う出張：3,000 円/日'),\n",
              " Document(metadata={'source': 'files/employment_regulations.pdf', 'page': 6, 'text': '3. 日当は宿泊の有無にかかわらず、支給対象日に基づいて支給されます。 \\n第 7 条 （その他必要経費） \\n出張に際して発生するその他の必要経費（例：通信費、資料代 など）は、会社が認め\\nた場合に支給されます。これらの経費についても、領収書の提出を必要とします。 \\n第 3 章 旅費の申請および支給 \\n第 8 条 （申請手続き） \\n1. 旅費の支給を受けるためには、出張終了後速やかに所定の旅費精算書を提出し\\nなければなりません。 \\n2. 旅費精算書には、交通費、宿泊費、その他の経費に関する領収書を添付する必\\n要があります。 \\n第 9 条 （支給手続き）'}, page_content='3. 日当は宿泊の有無にかかわらず、支給対象日に基づいて支給されます。 \\n第 7 条 （その他必要経費） \\n出張に際して発生するその他の必要経費（例：通信費、資料代 など）は、会社が認め\\nた場合に支給されます。これらの経費についても、領収書の提出を必要とします。 \\n第 3 章 旅費の申請および支給 \\n第 8 条 （申請手続き） \\n1. 旅費の支給を受けるためには、出張終了後速やかに所定の旅費精算書を提出し\\nなければなりません。 \\n2. 旅費精算書には、交通費、宿泊費、その他の経費に関する領収書を添付する必\\n要があります。 \\n第 9 条 （支給手続き）'),\n",
              " Document(metadata={'source': 'files/employment_regulations.pdf', 'page': 6, 'text': '1. 旅費の支給は、原則として給与支給時に行われますが、必要に応じて別途支給\\nする場合もあります。'}, page_content='1. 旅費の支給は、原則として給与支給時に行われますが、必要に応じて別途支給\\nする場合もあります。'),\n",
              " Document(metadata={'source': 'files/employment_regulations.pdf', 'page': 7, 'text': '2. 支給額は、旅費精算書の内容に基づき、会社が確認した後に決定されます。 \\n第 10 条 （前払い） \\n1. 長期出張または高額な経費が予想される場合、旅費の前払いを申請することが\\nできます。 \\n2. 前払いを受けた場合は、出張終了後に精算を行い、過不足を会社に報告しなけ\\nればなりません。 \\n第 4 章 雑則 \\n第 11 条 （規定の変更） \\n本規程は、会社の判断により変更されることがあります。 変更が行われた場合、従業\\n員に対して速やかに通知します。 \\n第 12 条 （附則） \\n本規程は、2024 年 8 月 1 日より施行します。'}, page_content='2. 支給額は、旅費精算書の内容に基づき、会社が確認した後に決定されます。 \\n第 10 条 （前払い） \\n1. 長期出張または高額な経費が予想される場合、旅費の前払いを申請することが\\nできます。 \\n2. 前払いを受けた場合は、出張終了後に精算を行い、過不足を会社に報告しなけ\\nればなりません。 \\n第 4 章 雑則 \\n第 11 条 （規定の変更） \\n本規程は、会社の判断により変更されることがあります。 変更が行われた場合、従業\\n員に対して速やかに通知します。 \\n第 12 条 （附則） \\n本規程は、2024 年 8 月 1 日より施行します。'),\n",
              " Document(metadata={'source': 'files/employment_regulations.pdf', 'page': 7, 'text': 'LangChain Training 社 海外旅費規程 \\n第 1 章 総則 \\n第 1 条 （目的） \\n本規程は、LangChain Training 社（以下「当社」という）の従業員が海外出張を行う\\n際の旅費に関する事項を定め、適正な支出管理と従業員の円滑な業務遂行を図ること\\nを目的とします。 \\n第 2 条 （適用範囲） \\n本規程は、当社の従業員が海外出張を行う場合に適用されます。 \\n第 2 章 旅費の種類 \\n第 3 条 （旅費の構成） \\n旅費は、以下の項目で構成されます。 \\n• 交通費'}, page_content='LangChain Training 社 海外旅費規程 \\n第 1 章 総則 \\n第 1 条 （目的） \\n本規程は、LangChain Training 社（以下「当社」という）の従業員が海外出張を行う\\n際の旅費に関する事項を定め、適正な支出管理と従業員の円滑な業務遂行を図ること\\nを目的とします。 \\n第 2 条 （適用範囲） \\n本規程は、当社の従業員が海外出張を行う場合に適用されます。 \\n第 2 章 旅費の種類 \\n第 3 条 （旅費の構成） \\n旅費は、以下の項目で構成されます。 \\n• 交通費'),\n",
              " Document(metadata={'source': 'files/employment_regulations.pdf', 'page': 8, 'text': '• 宿泊費 \\n• 日当 \\n• その他必要経費 \\n第 4 条 （交通費） \\n1. 交通費は、出張に必要な航空券や公共交通機関の実費を支給します。 \\n2. 航空券は、原則としてエコノミークラスを利用するものとします。ただし、フ\\nライト時間が 8 時間を超える場合はビジネスクラスの利用が認められることが\\nあります。 \\n3. 公共交通機関の利用に際しては、最も経済的かつ合理的な経路および方法を選\\n択するものとします。 \\n第 5 条 （宿泊費） \\n1. 宿泊費は、出張先で宿泊が必要な場合に支給されます。 \\n2. 宿泊費の上限額は、出張先の国・地域に応じて以下の通り定めます。'}, page_content='• 宿泊費 \\n• 日当 \\n• その他必要経費 \\n第 4 条 （交通費） \\n1. 交通費は、出張に必要な航空券や公共交通機関の実費を支給します。 \\n2. 航空券は、原則としてエコノミークラスを利用するものとします。ただし、フ\\nライト時間が 8 時間を超える場合はビジネスクラスの利用が認められることが\\nあります。 \\n3. 公共交通機関の利用に際しては、最も経済的かつ合理的な経路および方法を選\\n択するものとします。 \\n第 5 条 （宿泊費） \\n1. 宿泊費は、出張先で宿泊が必要な場合に支給されます。 \\n2. 宿泊費の上限額は、出張先の国・地域に応じて以下の通り定めます。'),\n",
              " Document(metadata={'source': 'files/employment_regulations.pdf', 'page': 8, 'text': 'o 北米、欧州主要都市：USD 300/泊 \\no アジア主要都市：USD 200/泊 \\no その他地域：USD 150/泊 \\n3. 宿泊費の支給は、領収書の提出を必要とします。 \\n第 6 条 （日当） \\n1. 日当は、出張に伴う通常の食事代や雑費に対して支給されます。 \\n2. 日当の額は、出張先の国・地域に応じて以下の通り定めます。 \\no 北米、欧州主要都市：USD 100/日 \\no アジア主要都市：USD 75/日 \\no その他地域：USD 50/日 \\n3. 日当は宿泊の有無にかかわらず、支給対象日に基づいて支給されます。'}, page_content='o 北米、欧州主要都市：USD 300/泊 \\no アジア主要都市：USD 200/泊 \\no その他地域：USD 150/泊 \\n3. 宿泊費の支給は、領収書の提出を必要とします。 \\n第 6 条 （日当） \\n1. 日当は、出張に伴う通常の食事代や雑費に対して支給されます。 \\n2. 日当の額は、出張先の国・地域に応じて以下の通り定めます。 \\no 北米、欧州主要都市：USD 100/日 \\no アジア主要都市：USD 75/日 \\no その他地域：USD 50/日 \\n3. 日当は宿泊の有無にかかわらず、支給対象日に基づいて支給されます。'),\n",
              " Document(metadata={'source': 'files/employment_regulations.pdf', 'page': 9, 'text': '第 7 条 （その他必要経費） \\n1. 出張に際して発生するその他の必要経費（例：通信費、資料代、ビザ申請費用\\nなど）は、会社が認めた場合に支給されます。 \\n2. これらの経費についても、領収書の提出を必要とします。 \\n第 3 章 旅費の申請および支給 \\n第 8 条 （申請手続き） \\n1. 旅費の支給を受けるためには、出張終了後速やかに所定の旅費精算書を提出し\\nなければなりません。 \\n2. 旅費精算書には、交通費、宿泊費、その他の経費に関する領収書を添付する必\\n要があります。 \\n第 9 条 （支給手続き） \\n1. 旅費の支給は、原則として給与支給時に行われますが、必要に応じて別途支給'}, page_content='第 7 条 （その他必要経費） \\n1. 出張に際して発生するその他の必要経費（例：通信費、資料代、ビザ申請費用\\nなど）は、会社が認めた場合に支給されます。 \\n2. これらの経費についても、領収書の提出を必要とします。 \\n第 3 章 旅費の申請および支給 \\n第 8 条 （申請手続き） \\n1. 旅費の支給を受けるためには、出張終了後速やかに所定の旅費精算書を提出し\\nなければなりません。 \\n2. 旅費精算書には、交通費、宿泊費、その他の経費に関する領収書を添付する必\\n要があります。 \\n第 9 条 （支給手続き） \\n1. 旅費の支給は、原則として給与支給時に行われますが、必要に応じて別途支給'),\n",
              " Document(metadata={'source': 'files/employment_regulations.pdf', 'page': 9, 'text': 'する場合もあります。 \\n2. 支給額は、旅費精算書の内容に基づき、会社が確認した後に決定されます。 \\n第 10 条 （前払い） \\n1. 長期出張または高額な経費が予想される場合、旅費の前払いを申請することが\\nできます。 \\n2. 前払いを受けた場合は、出張終了後に精算を行い、過不足を会社に報告しなけ\\nればなりません。 \\n第 4 章 雑則 \\n第 11 条 （規定の変更） \\n本規程は、会社の判断により変更されることがあります。 変更が行われた場合、従業\\n員に対して速やかに通知します。 \\n第 12 条 （附則） \\n本規程は、2024 年 8 月 1 日より施行します。'}, page_content='する場合もあります。 \\n2. 支給額は、旅費精算書の内容に基づき、会社が確認した後に決定されます。 \\n第 10 条 （前払い） \\n1. 長期出張または高額な経費が予想される場合、旅費の前払いを申請することが\\nできます。 \\n2. 前払いを受けた場合は、出張終了後に精算を行い、過不足を会社に報告しなけ\\nればなりません。 \\n第 4 章 雑則 \\n第 11 条 （規定の変更） \\n本規程は、会社の判断により変更されることがあります。 変更が行われた場合、従業\\n員に対して速やかに通知します。 \\n第 12 条 （附則） \\n本規程は、2024 年 8 月 1 日より施行します。'),\n",
              " Document(metadata={'source': 'files/employment_regulations.pdf', 'page': 10, 'text': 'LangChain Training 社 通勤手当支給規程 \\n第 1 章 総則 \\n第 1 条 （目的） \\n本規程は、LangChain Training 社（以下「当社」という）の従業員が通勤に要する費\\n用を補助するための通勤手当支給に関する事項を定め、従業員の通勤を支援すること\\nを目的とします。 \\n第 2 条 （適用範囲） \\n本規程は、当社に勤務する全ての従業員に適用されます。ただし、特別な場合を除き、\\n契約社員、パートタイマー、およびアルバイトについては別途規定を設けることがあ\\nります。 \\n第 2 章 通勤手当の支給 \\n第 3 条 （支給対象）'}, page_content='LangChain Training 社 通勤手当支給規程 \\n第 1 章 総則 \\n第 1 条 （目的） \\n本規程は、LangChain Training 社（以下「当社」という）の従業員が通勤に要する費\\n用を補助するための通勤手当支給に関する事項を定め、従業員の通勤を支援すること\\nを目的とします。 \\n第 2 条 （適用範囲） \\n本規程は、当社に勤務する全ての従業員に適用されます。ただし、特別な場合を除き、\\n契約社員、パートタイマー、およびアルバイトについては別途規定を設けることがあ\\nります。 \\n第 2 章 通勤手当の支給 \\n第 3 条 （支給対象）'),\n",
              " Document(metadata={'source': 'files/employment_regulations.pdf', 'page': 10, 'text': '1. 通勤手当は、従業員が自宅から勤務場所まで通勤するための交通費として支給\\nされます。 \\n2. 公共交通機関を利用する場合、最も経済的かつ合理的な経路および方法で通勤\\nした場合の運賃が支給対象となります。 \\n第 4 条 （支給額） \\n1. 通勤手当の月額上限は、30,000 円とします。 \\n2. 公共交通機関の運賃が上限額を超える場合、30,000 円を上限として支給します。 \\n3. 自家用車や自転車等で通勤する従業員には、会社が定めたガソリン代または定\\n額の交通費を支給します。ただし、この場合も月額 30,000 円を上限とします。 \\n第 5 条 （支給方法）'}, page_content='1. 通勤手当は、従業員が自宅から勤務場所まで通勤するための交通費として支給\\nされます。 \\n2. 公共交通機関を利用する場合、最も経済的かつ合理的な経路および方法で通勤\\nした場合の運賃が支給対象となります。 \\n第 4 条 （支給額） \\n1. 通勤手当の月額上限は、30,000 円とします。 \\n2. 公共交通機関の運賃が上限額を超える場合、30,000 円を上限として支給します。 \\n3. 自家用車や自転車等で通勤する従業員には、会社が定めたガソリン代または定\\n額の交通費を支給します。ただし、この場合も月額 30,000 円を上限とします。 \\n第 5 条 （支給方法）'),\n",
              " Document(metadata={'source': 'files/employment_regulations.pdf', 'page': 10, 'text': '1. 通勤手当は、毎月の給与支給日に、給与と併せて支給されます。 \\n2. 支給額の決定には、交通費申請書の提出が必要です。'}, page_content='1. 通勤手当は、毎月の給与支給日に、給与と併せて支給されます。 \\n2. 支給額の決定には、交通費申請書の提出が必要です。'),\n",
              " Document(metadata={'source': 'files/employment_regulations.pdf', 'page': 11, 'text': '第 6 条 （申請および変更手続き） \\n1. 通勤手当の申請は、入社時または通勤経路の変更が生じた際に、所定の交通費\\n申請書を提出することにより行います。 \\n2. 通勤経路や利用交通機関に変更があった場合、従業員は速やかに上司および総\\n務部門に報告し、変更内容を申請しなければなりません。 \\n第 3 章 通勤手当の不支給および返還 \\n第 7 条 （不支給） \\n以下の場合、通勤手当は支給されません。 \\n1. 自宅と勤務場所が非常に近接しており、通勤手当が実質的に不要と判断される\\n場合。 \\n2. 業務上、特別な通勤手当が支給される別途規定がある場合。'}, page_content='第 6 条 （申請および変更手続き） \\n1. 通勤手当の申請は、入社時または通勤経路の変更が生じた際に、所定の交通費\\n申請書を提出することにより行います。 \\n2. 通勤経路や利用交通機関に変更があった場合、従業員は速やかに上司および総\\n務部門に報告し、変更内容を申請しなければなりません。 \\n第 3 章 通勤手当の不支給および返還 \\n第 7 条 （不支給） \\n以下の場合、通勤手当は支給されません。 \\n1. 自宅と勤務場所が非常に近接しており、通勤手当が実質的に不要と判断される\\n場合。 \\n2. 業務上、特別な通勤手当が支給される別途規定がある場合。'),\n",
              " Document(metadata={'source': 'files/employment_regulations.pdf', 'page': 11, 'text': '3. 無断欠勤、長期休暇等により、通勤を行わなかった月については、当該月の通\\n勤手当を支給しません。 \\n第 8 条 （返還義務） \\n1. 支給された通勤手当に過剰が発生した場合、従業員は速やかにその過剰額を会\\n社に返還しなければなりません。 \\n2. 不正な申請により通勤手当を受け取ったことが発覚した場合、当該金額を返還\\nする義務が生じ、懲戒処分の対象となることがあります。 \\n第 4 章 雑則 \\n第 9 条 （規定の変更） \\n本規程は、会社の判断により変更されることがあります。 変更が行われた場合、従業\\n員に対して速やかに通知します。 \\n第 10 条 （附則）'}, page_content='3. 無断欠勤、長期休暇等により、通勤を行わなかった月については、当該月の通\\n勤手当を支給しません。 \\n第 8 条 （返還義務） \\n1. 支給された通勤手当に過剰が発生した場合、従業員は速やかにその過剰額を会\\n社に返還しなければなりません。 \\n2. 不正な申請により通勤手当を受け取ったことが発覚した場合、当該金額を返還\\nする義務が生じ、懲戒処分の対象となることがあります。 \\n第 4 章 雑則 \\n第 9 条 （規定の変更） \\n本規程は、会社の判断により変更されることがあります。 変更が行われた場合、従業\\n員に対して速やかに通知します。 \\n第 10 条 （附則）'),\n",
              " Document(metadata={'source': 'files/employment_regulations.pdf', 'page': 11, 'text': '本規程は、2024 年 8 月 1 日より施行します。'}, page_content='本規程は、2024 年 8 月 1 日より施行します。'),\n",
              " Document(metadata={'source': 'files/employment_regulations.pdf', 'page': 12, 'text': 'LangChain Training 社 育児休職規程 \\n第 1 章 総則 \\n第 1 条 （目的） \\n本規程は、LangChain Training 社（以下「当社」という）の従業員が仕事と子育てを\\n両立できる環境を整備し、育児休職に関する基本的な事項を定めることにより、従業\\n員のライフステージに応じた働き方を支援することを目的とします。 \\n第 2 条 （適用範囲） \\n本規程は、当社に勤務する全ての従業員に適用されます。正社員、契約社員、パート\\nタイム従業員、アルバイトなどの雇用形態に関わらず、育児休職を利用する権利があ\\nります。 \\n第 2 章 育児休職の内容'}, page_content='LangChain Training 社 育児休職規程 \\n第 1 章 総則 \\n第 1 条 （目的） \\n本規程は、LangChain Training 社（以下「当社」という）の従業員が仕事と子育てを\\n両立できる環境を整備し、育児休職に関する基本的な事項を定めることにより、従業\\n員のライフステージに応じた働き方を支援することを目的とします。 \\n第 2 条 （適用範囲） \\n本規程は、当社に勤務する全ての従業員に適用されます。正社員、契約社員、パート\\nタイム従業員、アルバイトなどの雇用形態に関わらず、育児休職を利用する権利があ\\nります。 \\n第 2 章 育児休職の内容'),\n",
              " Document(metadata={'source': 'files/employment_regulations.pdf', 'page': 12, 'text': '第 3 条 （育児休職の対象） \\n1. 育児休職は、従業員が満 1 歳未満の子を養育するために取得することができま\\nす。 \\n2. 特別な事情がある場合、育児休職は最長で子が満 2 歳になるまで延長すること\\nが可能です。 \\n第 4 条 （育児休職の申請および取得） \\n1. 育児休職を希望する従業員は、原則として休職開始予定日の 1 ヶ月前までに、\\n所定の申請書を人事部門に提出しなければなりません。 \\n2. 申請書には、育児休職の開始日および終了予定日を明記する必要があります。 \\n3. 従業員は、配偶者が同時に育児休職を取得する場合も同様に申請することがで\\nきます。'}, page_content='第 3 条 （育児休職の対象） \\n1. 育児休職は、従業員が満 1 歳未満の子を養育するために取得することができま\\nす。 \\n2. 特別な事情がある場合、育児休職は最長で子が満 2 歳になるまで延長すること\\nが可能です。 \\n第 4 条 （育児休職の申請および取得） \\n1. 育児休職を希望する従業員は、原則として休職開始予定日の 1 ヶ月前までに、\\n所定の申請書を人事部門に提出しなければなりません。 \\n2. 申請書には、育児休職の開始日および終了予定日を明記する必要があります。 \\n3. 従業員は、配偶者が同時に育児休職を取得する場合も同様に申請することがで\\nきます。'),\n",
              " Document(metadata={'source': 'files/employment_regulations.pdf', 'page': 12, 'text': '第 5 条 （育児休職中の処遇） \\n1. 育児休職中、従業員の雇用契約は維持されますが、給与は支給されません。た\\nだし、法定に基づく育児休業給付金が支給される場合があります。 \\n2. 育児休職中も社会保険料の負担は軽減されることがありますが、詳細は人事部'}, page_content='第 5 条 （育児休職中の処遇） \\n1. 育児休職中、従業員の雇用契約は維持されますが、給与は支給されません。た\\nだし、法定に基づく育児休業給付金が支給される場合があります。 \\n2. 育児休職中も社会保険料の負担は軽減されることがありますが、詳細は人事部'),\n",
              " Document(metadata={'source': 'files/employment_regulations.pdf', 'page': 13, 'text': '門が個別に案内します。 \\n3. 育児休職中に積極的にスキルアップやリモートでの業務参加を希望する従業員\\nには、会社がサポートを提供することがあります。 \\n第 6 条 （育児休職からの復職） \\n1. 従業員が育児休職から復職する際、原則として休職前と同一の職務および勤務\\n地に復帰します。 \\n2. 復職後の業務負担が過重にならないよう、短時間勤務やテレワークなどの柔軟\\nな働き方を希望する場合は、会社が可能な範囲で対応します。 \\n第 7 条 （育児休職の延長） \\n1. 特別な事情がある場合（例：保育所 の入所待機、配偶者 の介護など） 、育児休\\n職の延長を申請することができます。'}, page_content='門が個別に案内します。 \\n3. 育児休職中に積極的にスキルアップやリモートでの業務参加を希望する従業員\\nには、会社がサポートを提供することがあります。 \\n第 6 条 （育児休職からの復職） \\n1. 従業員が育児休職から復職する際、原則として休職前と同一の職務および勤務\\n地に復帰します。 \\n2. 復職後の業務負担が過重にならないよう、短時間勤務やテレワークなどの柔軟\\nな働き方を希望する場合は、会社が可能な範囲で対応します。 \\n第 7 条 （育児休職の延長） \\n1. 特別な事情がある場合（例：保育所 の入所待機、配偶者 の介護など） 、育児休\\n職の延長を申請することができます。'),\n",
              " Document(metadata={'source': 'files/employment_regulations.pdf', 'page': 13, 'text': '2. 延長を希望する従業員は、終了予定日の 1 ヶ月前までに延長申請書を提出しな\\nければなりません。 \\n第 3 章 育児休職とキャリアサポート \\n第 8 条 （育児とキャリアの両立支援） \\n1. 当社は、育児とキャリアの両立を目指す従業員に対し、キャリアサポートプロ\\nグラムを提供します。このプログラムには、育児休職中の研修、メンタリング、\\nキャリアカウンセリングが含まれます。 \\n2. 育児休職中の従業員が職場復帰に向けた準備を行うためのリソースや支援を提\\n供します。 \\n第 9 条 （ワークライフバランスの推進） \\n1. 当社は、育児に関する相談やサポートを提供する専任の担当者を設置し、従業'}, page_content='2. 延長を希望する従業員は、終了予定日の 1 ヶ月前までに延長申請書を提出しな\\nければなりません。 \\n第 3 章 育児休職とキャリアサポート \\n第 8 条 （育児とキャリアの両立支援） \\n1. 当社は、育児とキャリアの両立を目指す従業員に対し、キャリアサポートプロ\\nグラムを提供します。このプログラムには、育児休職中の研修、メンタリング、\\nキャリアカウンセリングが含まれます。 \\n2. 育児休職中の従業員が職場復帰に向けた準備を行うためのリソースや支援を提\\n供します。 \\n第 9 条 （ワークライフバランスの推進） \\n1. 当社は、育児に関する相談やサポートを提供する専任の担当者を設置し、従業'),\n",
              " Document(metadata={'source': 'files/employment_regulations.pdf', 'page': 13, 'text': '員のワークライフバランスの実現を支援します。 \\n2. 育児と仕事の両立を目指す従業員に対して、柔軟な勤務時間や在宅勤務のオプ\\nションを積極的に提供します。 \\n第 4 章 雑則'}, page_content='員のワークライフバランスの実現を支援します。 \\n2. 育児と仕事の両立を目指す従業員に対して、柔軟な勤務時間や在宅勤務のオプ\\nションを積極的に提供します。 \\n第 4 章 雑則'),\n",
              " Document(metadata={'source': 'files/employment_regulations.pdf', 'page': 14, 'text': '第 10 条 （規定の変更） \\n本規程は、会社の判断により変更されることがあります。 変更が行われた場合、従業\\n員に対して速やかに通知します。 \\n第 11 条 （附則） \\n本規程は、2024 年 8 月 1 日より施行します。 \\n \\nLangChain Training 社 介護休職規程 \\n第 1 章 総則 \\n第 1 条 （目的） \\n本規程は、LangChain Training 社（以下「当社」という）の従業員が仕事と介護を両\\n立できる環境を整備し、介護休職に関する基本的な事項を定めることにより、従業員\\nが安心して介護に専念できるよう支援することを目的とします。 \\n第 2 条 （適用範囲）'}, page_content='第 10 条 （規定の変更） \\n本規程は、会社の判断により変更されることがあります。 変更が行われた場合、従業\\n員に対して速やかに通知します。 \\n第 11 条 （附則） \\n本規程は、2024 年 8 月 1 日より施行します。 \\n \\nLangChain Training 社 介護休職規程 \\n第 1 章 総則 \\n第 1 条 （目的） \\n本規程は、LangChain Training 社（以下「当社」という）の従業員が仕事と介護を両\\n立できる環境を整備し、介護休職に関する基本的な事項を定めることにより、従業員\\nが安心して介護に専念できるよう支援することを目的とします。 \\n第 2 条 （適用範囲）'),\n",
              " Document(metadata={'source': 'files/employment_regulations.pdf', 'page': 14, 'text': '本規程は、当社に勤務する全ての従業員に適用されます。正社員、契約社員、パート\\nタイム従業員、アルバイトなどの雇用形態に関わらず、介護休職を利用する権利があ\\nります。 \\n第 2 章 介護休職の内容 \\n第 3 条 （介護休職の対象） \\n1. 介護休職は、従業員が要介護状態にある家族（配偶者、親、子、配偶者の父母、\\n祖父母、兄弟姉妹、その他の親族）を介護するために取得することができます。 \\n2. 介護休職の取得可能期間は、対象家族 1 人につき通算 93 日までとします。必\\n要に応じて分割して取得することが可能です。 \\n第 4 条 （介護休職の申請および取得）'}, page_content='本規程は、当社に勤務する全ての従業員に適用されます。正社員、契約社員、パート\\nタイム従業員、アルバイトなどの雇用形態に関わらず、介護休職を利用する権利があ\\nります。 \\n第 2 章 介護休職の内容 \\n第 3 条 （介護休職の対象） \\n1. 介護休職は、従業員が要介護状態にある家族（配偶者、親、子、配偶者の父母、\\n祖父母、兄弟姉妹、その他の親族）を介護するために取得することができます。 \\n2. 介護休職の取得可能期間は、対象家族 1 人につき通算 93 日までとします。必\\n要に応じて分割して取得することが可能です。 \\n第 4 条 （介護休職の申請および取得）'),\n",
              " Document(metadata={'source': 'files/employment_regulations.pdf', 'page': 14, 'text': '1. 介護休職を希望する従業員は、原則として休職開始予定日の 2 週間前までに、\\n所定の申請書を人事部門に提出しなければなりません。 \\n2. 申請書には、介護休職の開始日および終了予定日、介護の対象となる家族の状'}, page_content='1. 介護休職を希望する従業員は、原則として休職開始予定日の 2 週間前までに、\\n所定の申請書を人事部門に提出しなければなりません。 \\n2. 申請書には、介護休職の開始日および終了予定日、介護の対象となる家族の状'),\n",
              " Document(metadata={'source': 'files/employment_regulations.pdf', 'page': 15, 'text': '況を明記する必要があります。 \\n第 5 条 （介護休職中の処遇） \\n1. 介護休職中、従業員の雇用契約は維持されますが、給与は支給されません。た\\nだし、法定に基づく介護休業給付金が支給される場合があります。 \\n2. 介護休職中も社会保険料の負担は軽減されることがありますが、詳細は人事部\\n門が個別に案内します。 \\n3. 介護休職中においても、従業員の意向により可能な範囲でリモート業務や研修\\nに参加することができます。 \\n第 6 条 （介護休職からの復職） \\n1. 従業員が介護休職から復職する際、原則として休職前と同一の職務および勤務\\n地に復帰します。'}, page_content='況を明記する必要があります。 \\n第 5 条 （介護休職中の処遇） \\n1. 介護休職中、従業員の雇用契約は維持されますが、給与は支給されません。た\\nだし、法定に基づく介護休業給付金が支給される場合があります。 \\n2. 介護休職中も社会保険料の負担は軽減されることがありますが、詳細は人事部\\n門が個別に案内します。 \\n3. 介護休職中においても、従業員の意向により可能な範囲でリモート業務や研修\\nに参加することができます。 \\n第 6 条 （介護休職からの復職） \\n1. 従業員が介護休職から復職する際、原則として休職前と同一の職務および勤務\\n地に復帰します。'),\n",
              " Document(metadata={'source': 'files/employment_regulations.pdf', 'page': 15, 'text': '2. 復職後の業務負担が過重にならないよう、短時間勤務や在宅勤務などの柔軟な\\n働き方を希望する場合は、会社が可能な範囲で対応します。 \\n第 7 条 （介護休職の延長） \\n1. 特別な事情がある場合（例：介護 の状況が予想以上に長期化した場合など） 、\\n介護休職の延長を申請することができます。 \\n2. 延長を希望する従業員は、終了予定日の 1 ヶ月前までに延長申請書を提出しな\\nければなりません。 \\n第 3 章 介護とキャリアサポート \\n第 8 条 （介護とキャリアの両立支援） \\n1. 当社は、介護とキャリアの両立を目指す従業員に対し、キャリアサポートプロ'}, page_content='2. 復職後の業務負担が過重にならないよう、短時間勤務や在宅勤務などの柔軟な\\n働き方を希望する場合は、会社が可能な範囲で対応します。 \\n第 7 条 （介護休職の延長） \\n1. 特別な事情がある場合（例：介護 の状況が予想以上に長期化した場合など） 、\\n介護休職の延長を申請することができます。 \\n2. 延長を希望する従業員は、終了予定日の 1 ヶ月前までに延長申請書を提出しな\\nければなりません。 \\n第 3 章 介護とキャリアサポート \\n第 8 条 （介護とキャリアの両立支援） \\n1. 当社は、介護とキャリアの両立を目指す従業員に対し、キャリアサポートプロ'),\n",
              " Document(metadata={'source': 'files/employment_regulations.pdf', 'page': 15, 'text': 'グラムを提供します。このプログラムには、介護休職中の研修、メンタリング、\\nキャリアカウンセリングが含まれます。 \\n2. 介護休職中の従業員が職場復帰に向けた準備を行うためのリソースや支援を提\\n供します。 \\n第 9 条 （ワークライフバランスの推進）'}, page_content='グラムを提供します。このプログラムには、介護休職中の研修、メンタリング、\\nキャリアカウンセリングが含まれます。 \\n2. 介護休職中の従業員が職場復帰に向けた準備を行うためのリソースや支援を提\\n供します。 \\n第 9 条 （ワークライフバランスの推進）'),\n",
              " Document(metadata={'source': 'files/employment_regulations.pdf', 'page': 16, 'text': '1. 当社は、介護に関する相談やサポートを提供する専任の担当者を設置し、従業\\n員のワークライフバランスの実現を支援します。 \\n2. 介護と仕事の両立を目指す従業員に対して、柔軟な勤務時間や在宅勤務のオプ\\nションを積極的に提供します。 \\n第 4 章 雑則 \\n第 10 条 （規定の変更） \\n本規程は、会社の判断により変更されることがあります。 変更が行われた場合、従業\\n員に対して速やかに通知します。 \\n第 11 条 （附則） \\n本規程は、2024 年 8 月 1 日より施行します。 \\n \\nLangChain Training 社 リモートワーク規程 \\n第 1 章 総則 \\n第 1 条 （目的）'}, page_content='1. 当社は、介護に関する相談やサポートを提供する専任の担当者を設置し、従業\\n員のワークライフバランスの実現を支援します。 \\n2. 介護と仕事の両立を目指す従業員に対して、柔軟な勤務時間や在宅勤務のオプ\\nションを積極的に提供します。 \\n第 4 章 雑則 \\n第 10 条 （規定の変更） \\n本規程は、会社の判断により変更されることがあります。 変更が行われた場合、従業\\n員に対して速やかに通知します。 \\n第 11 条 （附則） \\n本規程は、2024 年 8 月 1 日より施行します。 \\n \\nLangChain Training 社 リモートワーク規程 \\n第 1 章 総則 \\n第 1 条 （目的）'),\n",
              " Document(metadata={'source': 'files/employment_regulations.pdf', 'page': 16, 'text': '本規程は、LangChain Training 社（以下「当社」という）の従業員がリモートワーク\\nを通じて、業務の効率化とワークライフバランス の向上を図ることを目的とし、多様\\nな働き方を支援するための基本的なルールを定めるものとします。 \\n第 2 条 （適用範囲） \\n本規程は、当社に勤務する全ての従業員に適用されます。正社員、契約社員、パート\\nタイム従業員、アルバイトなどの雇用形態に関わらず、リモートワークを希望する従\\n業員に対して適用されます。 \\n第 2 章 リモートワークの実施 \\n第 3 条 （リモートワークの定義）'}, page_content='本規程は、LangChain Training 社（以下「当社」という）の従業員がリモートワーク\\nを通じて、業務の効率化とワークライフバランス の向上を図ることを目的とし、多様\\nな働き方を支援するための基本的なルールを定めるものとします。 \\n第 2 条 （適用範囲） \\n本規程は、当社に勤務する全ての従業員に適用されます。正社員、契約社員、パート\\nタイム従業員、アルバイトなどの雇用形態に関わらず、リモートワークを希望する従\\n業員に対して適用されます。 \\n第 2 章 リモートワークの実施 \\n第 3 条 （リモートワークの定義）'),\n",
              " Document(metadata={'source': 'files/employment_regulations.pdf', 'page': 16, 'text': '1. リモートワークとは、従業員がオフィス以外の場所（自宅、コワーキングスペ\\nースなど）で業務を行う働き方を指します。 \\n2. リモートワークは、従業員が自身の責任で業務を遂行し、結果を出すことを前'}, page_content='1. リモートワークとは、従業員がオフィス以外の場所（自宅、コワーキングスペ\\nースなど）で業務を行う働き方を指します。 \\n2. リモートワークは、従業員が自身の責任で業務を遂行し、結果を出すことを前'),\n",
              " Document(metadata={'source': 'files/employment_regulations.pdf', 'page': 17, 'text': '提としています。 \\n第 4 条 （リモートワークの対象業務） \\n1. リモートワークは、業務内容がオフィス外でも遂行可能であり、かつ生産性を\\n維持できる場合に認められます。 \\n2. 上司が適当と判断した場合、特定のプロジェクトや業務についてリモートワー\\nクを奨励することができます。 \\n第 5 条 （リモートワークの申請および承認） \\n1. リモートワークを希望する従業員は、リモートワーク開始予定日の 2 週間前ま\\nでに、所定の申請書を提出し、上司の承認を得なければなりません。 \\n2. 申請書には、リモートワークを行う場所、希望する日数や期間、実施する業務\\n内容を明記する必要があります。'}, page_content='提としています。 \\n第 4 条 （リモートワークの対象業務） \\n1. リモートワークは、業務内容がオフィス外でも遂行可能であり、かつ生産性を\\n維持できる場合に認められます。 \\n2. 上司が適当と判断した場合、特定のプロジェクトや業務についてリモートワー\\nクを奨励することができます。 \\n第 5 条 （リモートワークの申請および承認） \\n1. リモートワークを希望する従業員は、リモートワーク開始予定日の 2 週間前ま\\nでに、所定の申請書を提出し、上司の承認を得なければなりません。 \\n2. 申請書には、リモートワークを行う場所、希望する日数や期間、実施する業務\\n内容を明記する必要があります。'),\n",
              " Document(metadata={'source': 'files/employment_regulations.pdf', 'page': 17, 'text': '第 6 条 （リモートワークの実施条件） \\n1. リモートワークを行う際は、勤務時間や成果物の提出期限を遵守し、業務に支\\n障をきたさないよう努めなければなりません。 \\n2. リモートワーク中も、上司やチームメンバーと適切なコミュニケーションを維\\n持することが求められます。 \\n3. 必要に応じて、オンライン会議や定期的な報告を行う義務があります。 \\n第 3 章 労働条件および環境 \\n第 7 条 （勤務時間） \\n1. リモートワーク中の勤務時間は、通常の勤務時間と同様に扱います。ただし、\\n柔軟な勤務時間を希望する場合は、上司の承認を得た上で調整が可能です。'}, page_content='第 6 条 （リモートワークの実施条件） \\n1. リモートワークを行う際は、勤務時間や成果物の提出期限を遵守し、業務に支\\n障をきたさないよう努めなければなりません。 \\n2. リモートワーク中も、上司やチームメンバーと適切なコミュニケーションを維\\n持することが求められます。 \\n3. 必要に応じて、オンライン会議や定期的な報告を行う義務があります。 \\n第 3 章 労働条件および環境 \\n第 7 条 （勤務時間） \\n1. リモートワーク中の勤務時間は、通常の勤務時間と同様に扱います。ただし、\\n柔軟な勤務時間を希望する場合は、上司の承認を得た上で調整が可能です。'),\n",
              " Document(metadata={'source': 'files/employment_regulations.pdf', 'page': 17, 'text': '2. リモートワーク中も、法定労働時間および労働基準法に従うものとします。 \\n第 8 条 （勤務環境） \\n1. 従業員は、リモートワークを行う場所での勤務環境が業務に適していることを\\n確認し、安全かつ健康的な環境を維持する責任があります。 \\n2. 会社は、必要に応じてリモートワーク用の IT 機器やソフトウェアを提供します。'}, page_content='2. リモートワーク中も、法定労働時間および労働基準法に従うものとします。 \\n第 8 条 （勤務環境） \\n1. 従業員は、リモートワークを行う場所での勤務環境が業務に適していることを\\n確認し、安全かつ健康的な環境を維持する責任があります。 \\n2. 会社は、必要に応じてリモートワーク用の IT 機器やソフトウェアを提供します。'),\n",
              " Document(metadata={'source': 'files/employment_regulations.pdf', 'page': 18, 'text': '従業員は、提供された機器およびソフトウェアを適切に管理し、業務に使用す\\nるものとします。 \\n第 9 条 （情報セキュリティ） \\n1. リモートワーク中の業務において、会社の情報資産や機密情報を取り扱う場合\\nは、情報セキュリティに十分留意しなければなりません。 \\n2. セキュリティ対策として、VPN の使用やデータの暗号化、パスワードの管理を\\n徹底することが求められます。 \\n第 10 条 （費用負担） \\n1. リモートワークに関連して発生する通信費や電気代等は、原則として従業員の\\n負担とします。 \\n2. 業務上必要な備品やソフトウェアの購入が必要な場合、事前に上司の承認を得'}, page_content='従業員は、提供された機器およびソフトウェアを適切に管理し、業務に使用す\\nるものとします。 \\n第 9 条 （情報セキュリティ） \\n1. リモートワーク中の業務において、会社の情報資産や機密情報を取り扱う場合\\nは、情報セキュリティに十分留意しなければなりません。 \\n2. セキュリティ対策として、VPN の使用やデータの暗号化、パスワードの管理を\\n徹底することが求められます。 \\n第 10 条 （費用負担） \\n1. リモートワークに関連して発生する通信費や電気代等は、原則として従業員の\\n負担とします。 \\n2. 業務上必要な備品やソフトウェアの購入が必要な場合、事前に上司の承認を得'),\n",
              " Document(metadata={'source': 'files/employment_regulations.pdf', 'page': 18, 'text': 'た上で会社が費用を負担します。 \\n第 4 章 ワークライフバランスの推進 \\n第 11 条 （ワークライフバランスの支援） \\n1. 当社は、リモートワークを通じて従業員がワークライフバランスを実現できる\\nよう支援します。 \\n2. リモートワークにより、育児や介護など個別の事情に応じた柔軟な働き方を推\\n奨します。 \\n第 12 条 （メンタルヘルスケア） \\n1. リモートワーク中の従業員に対しても、メンタルヘルスケアを重視し、定期的\\nなフォローアップやカウンセリングの機会を提供します。 \\n2. メンタルヘルスに関する問題が発生した場合、従業員は速やかに上司または人'}, page_content='た上で会社が費用を負担します。 \\n第 4 章 ワークライフバランスの推進 \\n第 11 条 （ワークライフバランスの支援） \\n1. 当社は、リモートワークを通じて従業員がワークライフバランスを実現できる\\nよう支援します。 \\n2. リモートワークにより、育児や介護など個別の事情に応じた柔軟な働き方を推\\n奨します。 \\n第 12 条 （メンタルヘルスケア） \\n1. リモートワーク中の従業員に対しても、メンタルヘルスケアを重視し、定期的\\nなフォローアップやカウンセリングの機会を提供します。 \\n2. メンタルヘルスに関する問題が発生した場合、従業員は速やかに上司または人'),\n",
              " Document(metadata={'source': 'files/employment_regulations.pdf', 'page': 18, 'text': '事部門に相談することが推奨されます。 \\n第 5 章 雑則 \\n第 13 条 （規定の変更） \\n本規程は、会社の判断により変更されることがあります。 変更が行われた場合、従業'}, page_content='事部門に相談することが推奨されます。 \\n第 5 章 雑則 \\n第 13 条 （規定の変更） \\n本規程は、会社の判断により変更されることがあります。 変更が行われた場合、従業'),\n",
              " Document(metadata={'source': 'files/employment_regulations.pdf', 'page': 19, 'text': '員に対して速やかに通知します。 \\n第 14 条 （附則） \\n本規程は、2024 年 8 月 1 日より施行します。'}, page_content='員に対して速やかに通知します。 \\n第 14 条 （附則） \\n本規程は、2024 年 8 月 1 日より施行します。')]"
            ]
          },
          "metadata": {},
          "execution_count": 20
        }
      ]
    },
    {
      "cell_type": "markdown",
      "source": [
        "## 既存の Index を削除"
      ],
      "metadata": {
        "id": "XXpjVpOgKLXw"
      }
    },
    {
      "cell_type": "code",
      "source": [
        "delete_pinecone_index()"
      ],
      "metadata": {
        "id": "8cjQkI95xKM2",
        "colab": {
          "base_uri": "https://localhost:8080/"
        },
        "outputId": "b70ac327-a630-4ff0-b721-ceb35c0a8144"
      },
      "execution_count": 17,
      "outputs": [
        {
          "output_type": "stream",
          "name": "stdout",
          "text": [
            "Deleting all indexes ... \n",
            "Ok\n"
          ]
        }
      ]
    },
    {
      "cell_type": "markdown",
      "source": [
        "## Task: Vector store インスタンスを取得\n",
        "Index 名を指定して、その Vector store インスタンスを取得します"
      ],
      "metadata": {
        "id": "hzdJPfTXKRoT"
      }
    },
    {
      "cell_type": "code",
      "source": [
        "# Index 名を指定\n",
        "index_name = 'askadocument'\n",
        "\n",
        "# Vector store インスタンスを取得\n",
        "vector_store = insert_or_fetch_embeddings(index_name=index_name, chunks=chunks)"
      ],
      "metadata": {
        "id": "Vmkn0nBtxNj7",
        "colab": {
          "base_uri": "https://localhost:8080/"
        },
        "outputId": "3c04a0c9-6d7c-45c4-a3a5-7a87378a6f8f"
      },
      "execution_count": 18,
      "outputs": [
        {
          "output_type": "stream",
          "name": "stdout",
          "text": [
            "Creating index askadocument and embeddings ... \n",
            "Ok\n"
          ]
        }
      ]
    },
    {
      "cell_type": "markdown",
      "source": [
        "## Task: チャットボットを実行\n",
        "* Chat history には `ChatMessageHistory` を使用します\n",
        "* 必要な引数を `get_answer_with_history` 関数に渡して実行し、回答を表示します\n",
        "* `get_answer_with_history` 関数に引数として渡す session_id は任意の英数字列で構いません"
      ],
      "metadata": {
        "id": "pEoYp80zKYjh"
      }
    },
    {
      "cell_type": "code",
      "source": [
        "from langchain_community.chat_message_histories.in_memory import ChatMessageHistory\n",
        "from langchain_core.chat_history import BaseChatMessageHistory\n",
        "\n",
        "# Chat history\n",
        "chat_history = ChatMessageHistory()\n",
        "\n",
        "import time\n",
        "i = 1\n",
        "print('Write Quit or Exit to quit.')\n",
        "while True:\n",
        "    q = input(f'Question #{i}: ')\n",
        "    i = i + 1\n",
        "    if q.lower() in ['quit', 'exit']:\n",
        "        print('Quitting ... bye bye!')\n",
        "        time.sleep(2)\n",
        "        break\n",
        "\n",
        "    answer = get_answer_with_history(vector_store,q,chat_history,\"b234\")\n",
        "    print(f'\\nAnswer: {answer}')\n",
        "    print(f'\\n {\"-\" * 50} \\n')"
      ],
      "metadata": {
        "id": "pLm4DgGXxlgv",
        "colab": {
          "base_uri": "https://localhost:8080/"
        },
        "outputId": "4ec15341-55e4-469f-ed9b-43939833dc91"
      },
      "execution_count": 21,
      "outputs": [
        {
          "output_type": "stream",
          "name": "stdout",
          "text": [
            "Write Quit or Exit to quit.\n",
            "Question #1: リモートワークの環境は？\n",
            "\n",
            "Answer: リモートワーク中の勤務環境は、従業員が業務に適していることを確認し、安全かつ健康的な環境を維持する責任があります。また、会社は必要に応じてリモートワーク用のIT機器やソフトウェアを提供します。\n",
            "\n",
            " -------------------------------------------------- \n",
            "\n",
            "Question #2: 勤務時間はどうなりますか？\n",
            "\n",
            "Answer: 通常の勤務時間は、午前9時から午後6時までと定められており、所定の勤務時間は1日8時間、週40時間です。リモートワーク中の勤務時間も通常の勤務時間と同様に扱われますが、柔軟な勤務時間を希望する場合は、上司の承認を得た上で調整が可能です。\n",
            "\n",
            " -------------------------------------------------- \n",
            "\n",
            "Question #3: その期間どんなサポートがありますか？\n",
            "\n",
            "Answer: リモートワーク中の従業員に対しては、メンタルヘルスケアを重視し、定期的なフォローアップやカウンセリングの機会が提供されます。また、育児や介護など個別の事情に応じた柔軟な働き方を推奨し、必要に応じてリモートワーク用のIT機器やソフトウェアも提供されます。\n",
            "\n",
            " -------------------------------------------------- \n",
            "\n",
            "Question #4: quit\n",
            "Quitting ... bye bye!\n"
          ]
        }
      ]
    }
  ]
}